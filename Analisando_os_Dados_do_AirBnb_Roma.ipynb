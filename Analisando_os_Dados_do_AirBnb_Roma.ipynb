{
  "nbformat": 4,
  "nbformat_minor": 0,
  "metadata": {
    "colab": {
      "provenance": [],
      "include_colab_link": true
    },
    "kernelspec": {
      "name": "python3",
      "display_name": "Python 3"
    }
  },
  "cells": [
    {
      "cell_type": "markdown",
      "metadata": {
        "id": "view-in-github",
        "colab_type": "text"
      },
      "source": [
        "<a href=\"https://colab.research.google.com/github/gabrielrflopes/Rome_Airbnb_Data_Analysis/blob/main/Analisando_os_Dados_do_AirBnb_Roma.ipynb\" target=\"_parent\"><img src=\"https://colab.research.google.com/assets/colab-badge.svg\" alt=\"Open In Colab\"/></a>"
      ]
    },
    {
      "cell_type": "markdown",
      "metadata": {
        "id": "kLI0gJtzDGuQ"
      },
      "source": [
        "# Análise dos Dados do Airbnb - *Roma, Itália*\n",
        "\n",
        "## A Cidade Eterna\n",
        "\n",
        "Roma é uma das cidades mais fascinantes do mundo, cheia de belezas arquitetônicas, rica em cultura e repleta de história. \n",
        "\n",
        "Durante seus mais de 2700 anos desde a fundação, ela já foi chamada de \"a capital do mundo\" pelo poeta romano Marco Anneo Lucano, que a usou na sua obra \"Farsália\", logo no século I d.C. Na época, Roma era o centro do Império Romano, a cidade mais importante do mundo antigo, e o poeta usou esse termo para descrever sua grandeza e poder.\n",
        "\n",
        "Na mesma época, Roma já recebia outro título ilustre, o de cidade eterna. O poeta Tibullo certamente enxergava Roma como uma cidade imponente, poderosa e, portanto, imortal. Desde então, a cidade é conhecida assim, como referência não somente de sua rica história, mas também de sua importância cultural e da sua capacidade de se reinventar.\n",
        "\n",
        "> <img src=\"https://images.unsplash.com/photo-1529260830199-42c24126f198?ixlib=rb-4.0.3&ixid=MnwxMjA3fDB8MHxwaG90by1wYWdlfHx8fGVufDB8fHx8&auto=format&fit=crop&w=1176&q=80\" height=\"300px\"></center>\n",
        "\n",
        "### O turismo em Roma\n",
        "\n",
        "A história viva de Roma se torna um convite irrecusável para muitas pessoas ao redor do mundo. Pelas ruas da cidade, nos deparamos com grandes monumentos históricos que resistiram a ação do tempo, pedaços das conquistas de grandes homens do passado, e o berço do cristianismo que cresceu para sustentar todo o ocidente a partir de Roma.\n",
        "\n",
        "Uma das principais atrações da cidade é o Coliseu, um dos monumentos mais emblemáticos da cidade. Construído no século I d.C., o Coliseu era um anfiteatro onde gladiadores lutavam até a morte, e um local de entretenimento para o povo romano. A cidade também abriga o Fórum Romano e o Palatino, que foram o centro da vida pública e política da Roma Antiga.\n",
        "\n",
        "> <img src=\"https://images.unsplash.com/photo-1515542622106-78bda8ba0e5b?ixlib=rb-4.0.3&ixid=MnwxMjA3fDB8MHxwaG90by1wYWdlfHx8fGVufDB8fHx8&auto=format&fit=crop&w=1170&q=80\" height=\"300px\"></center>\n",
        "\n",
        "Outro ponto de destaque da cidade é a Cidade do Vaticano, que abriga a Basílica de São Pedro, um dos maiores templos religiosos do mundo. A cidade também abriga o Museu do Vaticano, que contém algumas das mais importantes obras de arte do mundo, incluindo a Capela Sistina, com os afrescos de Michelangelo.\n",
        "\n",
        "> <img src=\"https://images.unsplash.com/photo-1568132273463-95931747cc5f?ixlib=rb-4.0.3&ixid=MnwxMjA3fDB8MHxwaG90by1wYWdlfHx8fGVufDB8fHx8&auto=format&fit=crop&w=1170&q=80\" height=\"300px\"></center>\n",
        "\n",
        "Por falar em Igreja, Roma não decepciona. Isso porque a cidade tem mais de 900 igrejas espalhadas pelo seu território, nos mais diversos estilos arquitetônincos.\n",
        "\n",
        "Além disso, Roma é uma cidade vibrante e moderna, com uma vida noturna agitada e uma cena cultural vibrante. Os bairros de Trastevere e Monti são repletos de bares, restaurantes e lojas descoladas, enquanto o Centro Histórico é uma verdadeira maravilha arquitetônica, repleta de edifícios históricos e praças encantadoras.\n",
        "\n",
        "### Roma no AirBnb\n",
        "\n",
        "Por ter esse apelo tão admirável, muitos procuram se hospedar em Roma pelo AirBnb. O AirBnb é uma plataforma que conecta pessoas que buscam acomodações com anfitriões que têm quartos para alugar.\n",
        "\n",
        "A plataforma funciona de maneira simples: os anfitriões cadastram suas propriedades na plataforma, com fotos, descrições, preços e regras. Os viajantes, por sua vez, procuram por acomodações em suas cidades ou regiões de destino e podem escolher entre diversas opções de quartos, apartamentos e casas.\n",
        "\n",
        "Uma das principais vantagens do AirBnb é que ele oferece uma alternativa às hospedagens tradicionais, como hotéis e pousadas. Muitas vezes, as hospedagens no AirBnb são mais baratas que as tradicionais, tornando o negócio ainda melhor.\n",
        "\n",
        "Com o AirBnb, os viajantes podem ter uma experiência mais autêntica e personalizada, ficando em locais únicos e interagindo com os moradores locais.\n",
        "\n",
        "### Inside AirBnb\n",
        "\n",
        "O AirBnb possui um portal onde ficam disponibilizados dados do site para algumas das principais cidades do mundo. No [Inside AirBnb](http://insideairbnb.com/get-the-data.html) é possível baixar esses dados, realizar análises e desenvolver projetos e soluções de *data science*.\n",
        "\n",
        "Este projeto foi criado utilizando-se dessa ferramenta para fazer a análise dos dados do AirBnb para Roma. Utilizou-se para isso o arquivo `listings.csv`, que fornece uma versão resumida dos dados, porém completa para o propósito deste projeto, que será:\n",
        "\n",
        "* Analisar a distribuição de preços das hospedagens\n",
        "* Analisar o mínimo de noites necessárias para se hospedar\n",
        "* Verificar os principais bairros procurados por turistas no AirBnb\n",
        "* O preço médio nesses bairros mais procurados\n",
        "* Verificar os tipos de imóveis mais alugados"
      ]
    },
    {
      "cell_type": "markdown",
      "metadata": {
        "id": "0zxQHhIUDF_2"
      },
      "source": [
        "## Obtenção dos Dados\n",
        "\n",
        "O conjunto de dados `listings.csv` foi obtido no Inside AirBnb. A seguir, vamos importar as bibliotecas necessárias para desenvolver o projeto de *data science*.\n",
        "\n",
        "Para este projeto, utilizaremos a biblioteca `Pandas` para análise e manipulação dos dados e as bibliotecas `matplotlib.pyplot`, `seaborn` e `pywaffle` para visualização desses dados em gráficos."
      ]
    },
    {
      "cell_type": "code",
      "source": [
        "!pip install pywaffle -q"
      ],
      "metadata": {
        "id": "GjL47ae7UTUE"
      },
      "execution_count": 3,
      "outputs": []
    },
    {
      "cell_type": "code",
      "metadata": {
        "id": "Vhp2wMPgJ6zX"
      },
      "source": [
        "# Importar os pacotes necessarios\n",
        "import pandas as pd\n",
        "import matplotlib.pyplot as plt\n",
        "import seaborn as sns\n",
        "from pywaffle import Waffle\n",
        "\n",
        "%matplotlib inline"
      ],
      "execution_count": 4,
      "outputs": []
    },
    {
      "cell_type": "code",
      "metadata": {
        "id": "tUmoAT8DLQ5T"
      },
      "source": [
        "# Importar o arquivo listings.csv para um DataFrame\n",
        "df_rome = pd.read_csv('http://data.insideairbnb.com/italy/lazio/rome/2022-12-13/visualisations/listings.csv', delimiter = ',')"
      ],
      "execution_count": 5,
      "outputs": []
    },
    {
      "cell_type": "markdown",
      "metadata": {
        "id": "qb5By2nIMS6m"
      },
      "source": [
        "## Análise dos Dados\n",
        "\n",
        "O próprio site do Inside AirBnb fornece um documento que lista as variáveis do arquivo, juntamente com uma descrição do que elas representam.\n",
        "\n",
        "Para acessar esse documento e ter uma visão completa, [clique aqui](https://docs.google.com/spreadsheets/d/1iWCNJcSutYqpULSQHlNyGInUvHg2BoUGoNRIGa6Szc4/edit#gid=1322284596).\n",
        "\n",
        "Abaixo está o dicionário de variáveis com o nome da variável e uma breve descrição."
      ]
    },
    {
      "cell_type": "markdown",
      "metadata": {
        "id": "RYgvuebKNg8-"
      },
      "source": [
        "**Dicionário das variáveis**\n",
        "\n",
        "* `id`: Número gerado para identificação do imóvel.\n",
        "* `name`: Descrição do tipo e características do apartamento.\n",
        "* `host_id`: Número gerado para identificar o anfitrião.\n",
        "* `host_name`: Nome do anfitrião.\n",
        "* `neighbourhood`: Vizinhança em que se encontra o imóvel.\n",
        "* `latitude`: Latitude.\n",
        "* `longitude`: Longitude.\n",
        "* `room_type`: Tipo de quarto disponível para alugar.\n",
        "* `price`: Preço da estadia no imóvel.\n",
        "* `minimum_nights`: Mínimo de noites necessário para reservar o imóvel.\n",
        "* `number_of_reviews`: Número de reviews dados por pessoas que se hospedaram no imóvel.\n",
        "* `last_review`: Data do último review.\n",
        "* `reviews_per_month`: Número de reviews que um imóvel recebe por mês.\n",
        "* `calculated_host_listing_count`: \n",
        "Quantidade de imóveis do mesmo anfitrião.\n",
        "* `availability_365`: A quantidade dias que o imóvel tem disponibilidade nos próximo 365 dias.\n",
        "\n",
        "Antes de iniciar qualquer análise, vamos verificar a cara do nosso *dataset*, analisando as 5 primeiras entradas."
      ]
    },
    {
      "cell_type": "code",
      "metadata": {
        "id": "2iS_dae7YQtO",
        "colab": {
          "base_uri": "https://localhost:8080/",
          "height": 617
        },
        "outputId": "460eec85-80e9-446b-f280-a92116ae71c0"
      },
      "source": [
        "# Mostrar as 5 primeiras entradas\n",
        "df_rome.head()"
      ],
      "execution_count": 6,
      "outputs": [
        {
          "output_type": "execute_result",
          "data": {
            "text/plain": [
              "      id                                           name  host_id host_name  \\\n",
              "0   2737               Elif's room in cozy, clean flat.     3047      Elif   \n",
              "1   3079      Cozy apartment  (2-4)with Colisseum  view     3504     Laura   \n",
              "2  11834               Rome \"Charming Boschetto Studio\"    44552    Serena   \n",
              "3  12398            Casa Donatello - Home far from Home    11756       Gea   \n",
              "4  19965  DI FRONTE AI MUSEI VATICANI 2 CAMERE DA LETTO    75450      Sasa   \n",
              "\n",
              "   neighbourhood_group         neighbourhood  latitude  longitude  \\\n",
              "0                  NaN     VIII Appia Antica  41.87136   12.48215   \n",
              "1                  NaN      I Centro Storico  41.89500   12.49117   \n",
              "2                  NaN      I Centro Storico  41.89650   12.49211   \n",
              "3                  NaN  II Parioli/Nomentano  41.92582   12.46928   \n",
              "4                  NaN      I Centro Storico  41.90730   12.45349   \n",
              "\n",
              "         room_type  price  minimum_nights  number_of_reviews last_review  \\\n",
              "0     Private room     45               7                  7  2015-05-28   \n",
              "1  Entire home/apt     90              20                 21  2022-04-30   \n",
              "2  Entire home/apt    100               2                173  2022-11-15   \n",
              "3  Entire home/apt     81               1                 44  2022-08-10   \n",
              "4  Entire home/apt     96               3                 95  2022-11-01   \n",
              "\n",
              "   reviews_per_month  calculated_host_listings_count  availability_365  \\\n",
              "0               0.07                               6               365   \n",
              "1               0.14                               5               284   \n",
              "2               1.22                               1               349   \n",
              "3               0.30                               1               294   \n",
              "4               0.71                               9                43   \n",
              "\n",
              "   number_of_reviews_ltm license  \n",
              "0                      0     NaN  \n",
              "1                      2     NaN  \n",
              "2                     31     NaN  \n",
              "3                      1     NaN  \n",
              "4                     33     NaN  "
            ],
            "text/html": [
              "\n",
              "  <div id=\"df-0d18514b-908a-43f6-b1c0-76585fad937b\">\n",
              "    <div class=\"colab-df-container\">\n",
              "      <div>\n",
              "<style scoped>\n",
              "    .dataframe tbody tr th:only-of-type {\n",
              "        vertical-align: middle;\n",
              "    }\n",
              "\n",
              "    .dataframe tbody tr th {\n",
              "        vertical-align: top;\n",
              "    }\n",
              "\n",
              "    .dataframe thead th {\n",
              "        text-align: right;\n",
              "    }\n",
              "</style>\n",
              "<table border=\"1\" class=\"dataframe\">\n",
              "  <thead>\n",
              "    <tr style=\"text-align: right;\">\n",
              "      <th></th>\n",
              "      <th>id</th>\n",
              "      <th>name</th>\n",
              "      <th>host_id</th>\n",
              "      <th>host_name</th>\n",
              "      <th>neighbourhood_group</th>\n",
              "      <th>neighbourhood</th>\n",
              "      <th>latitude</th>\n",
              "      <th>longitude</th>\n",
              "      <th>room_type</th>\n",
              "      <th>price</th>\n",
              "      <th>minimum_nights</th>\n",
              "      <th>number_of_reviews</th>\n",
              "      <th>last_review</th>\n",
              "      <th>reviews_per_month</th>\n",
              "      <th>calculated_host_listings_count</th>\n",
              "      <th>availability_365</th>\n",
              "      <th>number_of_reviews_ltm</th>\n",
              "      <th>license</th>\n",
              "    </tr>\n",
              "  </thead>\n",
              "  <tbody>\n",
              "    <tr>\n",
              "      <th>0</th>\n",
              "      <td>2737</td>\n",
              "      <td>Elif's room in cozy, clean flat.</td>\n",
              "      <td>3047</td>\n",
              "      <td>Elif</td>\n",
              "      <td>NaN</td>\n",
              "      <td>VIII Appia Antica</td>\n",
              "      <td>41.87136</td>\n",
              "      <td>12.48215</td>\n",
              "      <td>Private room</td>\n",
              "      <td>45</td>\n",
              "      <td>7</td>\n",
              "      <td>7</td>\n",
              "      <td>2015-05-28</td>\n",
              "      <td>0.07</td>\n",
              "      <td>6</td>\n",
              "      <td>365</td>\n",
              "      <td>0</td>\n",
              "      <td>NaN</td>\n",
              "    </tr>\n",
              "    <tr>\n",
              "      <th>1</th>\n",
              "      <td>3079</td>\n",
              "      <td>Cozy apartment  (2-4)with Colisseum  view</td>\n",
              "      <td>3504</td>\n",
              "      <td>Laura</td>\n",
              "      <td>NaN</td>\n",
              "      <td>I Centro Storico</td>\n",
              "      <td>41.89500</td>\n",
              "      <td>12.49117</td>\n",
              "      <td>Entire home/apt</td>\n",
              "      <td>90</td>\n",
              "      <td>20</td>\n",
              "      <td>21</td>\n",
              "      <td>2022-04-30</td>\n",
              "      <td>0.14</td>\n",
              "      <td>5</td>\n",
              "      <td>284</td>\n",
              "      <td>2</td>\n",
              "      <td>NaN</td>\n",
              "    </tr>\n",
              "    <tr>\n",
              "      <th>2</th>\n",
              "      <td>11834</td>\n",
              "      <td>Rome \"Charming Boschetto Studio\"</td>\n",
              "      <td>44552</td>\n",
              "      <td>Serena</td>\n",
              "      <td>NaN</td>\n",
              "      <td>I Centro Storico</td>\n",
              "      <td>41.89650</td>\n",
              "      <td>12.49211</td>\n",
              "      <td>Entire home/apt</td>\n",
              "      <td>100</td>\n",
              "      <td>2</td>\n",
              "      <td>173</td>\n",
              "      <td>2022-11-15</td>\n",
              "      <td>1.22</td>\n",
              "      <td>1</td>\n",
              "      <td>349</td>\n",
              "      <td>31</td>\n",
              "      <td>NaN</td>\n",
              "    </tr>\n",
              "    <tr>\n",
              "      <th>3</th>\n",
              "      <td>12398</td>\n",
              "      <td>Casa Donatello - Home far from Home</td>\n",
              "      <td>11756</td>\n",
              "      <td>Gea</td>\n",
              "      <td>NaN</td>\n",
              "      <td>II Parioli/Nomentano</td>\n",
              "      <td>41.92582</td>\n",
              "      <td>12.46928</td>\n",
              "      <td>Entire home/apt</td>\n",
              "      <td>81</td>\n",
              "      <td>1</td>\n",
              "      <td>44</td>\n",
              "      <td>2022-08-10</td>\n",
              "      <td>0.30</td>\n",
              "      <td>1</td>\n",
              "      <td>294</td>\n",
              "      <td>1</td>\n",
              "      <td>NaN</td>\n",
              "    </tr>\n",
              "    <tr>\n",
              "      <th>4</th>\n",
              "      <td>19965</td>\n",
              "      <td>DI FRONTE AI MUSEI VATICANI 2 CAMERE DA LETTO</td>\n",
              "      <td>75450</td>\n",
              "      <td>Sasa</td>\n",
              "      <td>NaN</td>\n",
              "      <td>I Centro Storico</td>\n",
              "      <td>41.90730</td>\n",
              "      <td>12.45349</td>\n",
              "      <td>Entire home/apt</td>\n",
              "      <td>96</td>\n",
              "      <td>3</td>\n",
              "      <td>95</td>\n",
              "      <td>2022-11-01</td>\n",
              "      <td>0.71</td>\n",
              "      <td>9</td>\n",
              "      <td>43</td>\n",
              "      <td>33</td>\n",
              "      <td>NaN</td>\n",
              "    </tr>\n",
              "  </tbody>\n",
              "</table>\n",
              "</div>\n",
              "      <button class=\"colab-df-convert\" onclick=\"convertToInteractive('df-0d18514b-908a-43f6-b1c0-76585fad937b')\"\n",
              "              title=\"Convert this dataframe to an interactive table.\"\n",
              "              style=\"display:none;\">\n",
              "        \n",
              "  <svg xmlns=\"http://www.w3.org/2000/svg\" height=\"24px\"viewBox=\"0 0 24 24\"\n",
              "       width=\"24px\">\n",
              "    <path d=\"M0 0h24v24H0V0z\" fill=\"none\"/>\n",
              "    <path d=\"M18.56 5.44l.94 2.06.94-2.06 2.06-.94-2.06-.94-.94-2.06-.94 2.06-2.06.94zm-11 1L8.5 8.5l.94-2.06 2.06-.94-2.06-.94L8.5 2.5l-.94 2.06-2.06.94zm10 10l.94 2.06.94-2.06 2.06-.94-2.06-.94-.94-2.06-.94 2.06-2.06.94z\"/><path d=\"M17.41 7.96l-1.37-1.37c-.4-.4-.92-.59-1.43-.59-.52 0-1.04.2-1.43.59L10.3 9.45l-7.72 7.72c-.78.78-.78 2.05 0 2.83L4 21.41c.39.39.9.59 1.41.59.51 0 1.02-.2 1.41-.59l7.78-7.78 2.81-2.81c.8-.78.8-2.07 0-2.86zM5.41 20L4 18.59l7.72-7.72 1.47 1.35L5.41 20z\"/>\n",
              "  </svg>\n",
              "      </button>\n",
              "      \n",
              "  <style>\n",
              "    .colab-df-container {\n",
              "      display:flex;\n",
              "      flex-wrap:wrap;\n",
              "      gap: 12px;\n",
              "    }\n",
              "\n",
              "    .colab-df-convert {\n",
              "      background-color: #E8F0FE;\n",
              "      border: none;\n",
              "      border-radius: 50%;\n",
              "      cursor: pointer;\n",
              "      display: none;\n",
              "      fill: #1967D2;\n",
              "      height: 32px;\n",
              "      padding: 0 0 0 0;\n",
              "      width: 32px;\n",
              "    }\n",
              "\n",
              "    .colab-df-convert:hover {\n",
              "      background-color: #E2EBFA;\n",
              "      box-shadow: 0px 1px 2px rgba(60, 64, 67, 0.3), 0px 1px 3px 1px rgba(60, 64, 67, 0.15);\n",
              "      fill: #174EA6;\n",
              "    }\n",
              "\n",
              "    [theme=dark] .colab-df-convert {\n",
              "      background-color: #3B4455;\n",
              "      fill: #D2E3FC;\n",
              "    }\n",
              "\n",
              "    [theme=dark] .colab-df-convert:hover {\n",
              "      background-color: #434B5C;\n",
              "      box-shadow: 0px 1px 3px 1px rgba(0, 0, 0, 0.15);\n",
              "      filter: drop-shadow(0px 1px 2px rgba(0, 0, 0, 0.3));\n",
              "      fill: #FFFFFF;\n",
              "    }\n",
              "  </style>\n",
              "\n",
              "      <script>\n",
              "        const buttonEl =\n",
              "          document.querySelector('#df-0d18514b-908a-43f6-b1c0-76585fad937b button.colab-df-convert');\n",
              "        buttonEl.style.display =\n",
              "          google.colab.kernel.accessAllowed ? 'block' : 'none';\n",
              "\n",
              "        async function convertToInteractive(key) {\n",
              "          const element = document.querySelector('#df-0d18514b-908a-43f6-b1c0-76585fad937b');\n",
              "          const dataTable =\n",
              "            await google.colab.kernel.invokeFunction('convertToInteractive',\n",
              "                                                     [key], {});\n",
              "          if (!dataTable) return;\n",
              "\n",
              "          const docLinkHtml = 'Like what you see? Visit the ' +\n",
              "            '<a target=\"_blank\" href=https://colab.research.google.com/notebooks/data_table.ipynb>data table notebook</a>'\n",
              "            + ' to learn more about interactive tables.';\n",
              "          element.innerHTML = '';\n",
              "          dataTable['output_type'] = 'display_data';\n",
              "          await google.colab.output.renderOutput(dataTable, element);\n",
              "          const docLink = document.createElement('div');\n",
              "          docLink.innerHTML = docLinkHtml;\n",
              "          element.appendChild(docLink);\n",
              "        }\n",
              "      </script>\n",
              "    </div>\n",
              "  </div>\n",
              "  "
            ]
          },
          "metadata": {},
          "execution_count": 6
        }
      ]
    },
    {
      "cell_type": "markdown",
      "source": [
        "E também, as 5 últimas entradas, para avaliar se há mudanças significativas em comparação com o início do dataset."
      ],
      "metadata": {
        "id": "x5zsi5Fhmbmd"
      }
    },
    {
      "cell_type": "code",
      "source": [
        "df_rome.tail()"
      ],
      "metadata": {
        "colab": {
          "base_uri": "https://localhost:8080/",
          "height": 478
        },
        "id": "ipkdHNhz3NPA",
        "outputId": "265d3b7d-a35d-4165-a6bc-a65d291d16d4"
      },
      "execution_count": 7,
      "outputs": [
        {
          "output_type": "execute_result",
          "data": {
            "text/plain": [
              "                       id                                     name    host_id  \\\n",
              "24378  779552381059690347           Camera matrimoniale Trastevere   19444683   \n",
              "24379  779557620810535438             apartment 2 levels in center  245357731   \n",
              "24380  779638788545551248             Studio Pantheon Campo Marzio   13012838   \n",
              "24381  779688501955130604  Camera doppia in appartamento condiviso   21768240   \n",
              "24382  780297137357906205           Porta Portese Modern Apartment    2405376   \n",
              "\n",
              "      host_name  neighbourhood_group         neighbourhood   latitude  \\\n",
              "24378     Alice                  NaN      I Centro Storico  41.890398   \n",
              "24379   Mikhail                  NaN      I Centro Storico  41.906710   \n",
              "24380     Paola                  NaN      I Centro Storico  41.901176   \n",
              "24381     Carlo                  NaN  XI Arvalia/Portuense  41.872206   \n",
              "24382   Lorenzo                  NaN       XII Monte Verde  41.878543   \n",
              "\n",
              "       longitude        room_type  price  minimum_nights  number_of_reviews  \\\n",
              "24378  12.470885     Private room    100               1                  0   \n",
              "24379  12.501616  Entire home/apt    141               1                  0   \n",
              "24380  12.474972  Entire home/apt     60               3                  0   \n",
              "24381  12.467717     Private room     73               2                  0   \n",
              "24382  12.468261  Entire home/apt    213               3                  0   \n",
              "\n",
              "      last_review  reviews_per_month  calculated_host_listings_count  \\\n",
              "24378         NaN                NaN                               2   \n",
              "24379         NaN                NaN                               7   \n",
              "24380         NaN                NaN                              10   \n",
              "24381         NaN                NaN                               6   \n",
              "24382         NaN                NaN                              46   \n",
              "\n",
              "       availability_365  number_of_reviews_ltm license  \n",
              "24378               320                      0     NaN  \n",
              "24379               359                      0   11864  \n",
              "24380               265                      0     NaN  \n",
              "24381               361                      0     NaN  \n",
              "24382               364                      0     NaN  "
            ],
            "text/html": [
              "\n",
              "  <div id=\"df-512ac441-1364-4650-9eae-a984a7842887\">\n",
              "    <div class=\"colab-df-container\">\n",
              "      <div>\n",
              "<style scoped>\n",
              "    .dataframe tbody tr th:only-of-type {\n",
              "        vertical-align: middle;\n",
              "    }\n",
              "\n",
              "    .dataframe tbody tr th {\n",
              "        vertical-align: top;\n",
              "    }\n",
              "\n",
              "    .dataframe thead th {\n",
              "        text-align: right;\n",
              "    }\n",
              "</style>\n",
              "<table border=\"1\" class=\"dataframe\">\n",
              "  <thead>\n",
              "    <tr style=\"text-align: right;\">\n",
              "      <th></th>\n",
              "      <th>id</th>\n",
              "      <th>name</th>\n",
              "      <th>host_id</th>\n",
              "      <th>host_name</th>\n",
              "      <th>neighbourhood_group</th>\n",
              "      <th>neighbourhood</th>\n",
              "      <th>latitude</th>\n",
              "      <th>longitude</th>\n",
              "      <th>room_type</th>\n",
              "      <th>price</th>\n",
              "      <th>minimum_nights</th>\n",
              "      <th>number_of_reviews</th>\n",
              "      <th>last_review</th>\n",
              "      <th>reviews_per_month</th>\n",
              "      <th>calculated_host_listings_count</th>\n",
              "      <th>availability_365</th>\n",
              "      <th>number_of_reviews_ltm</th>\n",
              "      <th>license</th>\n",
              "    </tr>\n",
              "  </thead>\n",
              "  <tbody>\n",
              "    <tr>\n",
              "      <th>24378</th>\n",
              "      <td>779552381059690347</td>\n",
              "      <td>Camera matrimoniale Trastevere</td>\n",
              "      <td>19444683</td>\n",
              "      <td>Alice</td>\n",
              "      <td>NaN</td>\n",
              "      <td>I Centro Storico</td>\n",
              "      <td>41.890398</td>\n",
              "      <td>12.470885</td>\n",
              "      <td>Private room</td>\n",
              "      <td>100</td>\n",
              "      <td>1</td>\n",
              "      <td>0</td>\n",
              "      <td>NaN</td>\n",
              "      <td>NaN</td>\n",
              "      <td>2</td>\n",
              "      <td>320</td>\n",
              "      <td>0</td>\n",
              "      <td>NaN</td>\n",
              "    </tr>\n",
              "    <tr>\n",
              "      <th>24379</th>\n",
              "      <td>779557620810535438</td>\n",
              "      <td>apartment 2 levels in center</td>\n",
              "      <td>245357731</td>\n",
              "      <td>Mikhail</td>\n",
              "      <td>NaN</td>\n",
              "      <td>I Centro Storico</td>\n",
              "      <td>41.906710</td>\n",
              "      <td>12.501616</td>\n",
              "      <td>Entire home/apt</td>\n",
              "      <td>141</td>\n",
              "      <td>1</td>\n",
              "      <td>0</td>\n",
              "      <td>NaN</td>\n",
              "      <td>NaN</td>\n",
              "      <td>7</td>\n",
              "      <td>359</td>\n",
              "      <td>0</td>\n",
              "      <td>11864</td>\n",
              "    </tr>\n",
              "    <tr>\n",
              "      <th>24380</th>\n",
              "      <td>779638788545551248</td>\n",
              "      <td>Studio Pantheon Campo Marzio</td>\n",
              "      <td>13012838</td>\n",
              "      <td>Paola</td>\n",
              "      <td>NaN</td>\n",
              "      <td>I Centro Storico</td>\n",
              "      <td>41.901176</td>\n",
              "      <td>12.474972</td>\n",
              "      <td>Entire home/apt</td>\n",
              "      <td>60</td>\n",
              "      <td>3</td>\n",
              "      <td>0</td>\n",
              "      <td>NaN</td>\n",
              "      <td>NaN</td>\n",
              "      <td>10</td>\n",
              "      <td>265</td>\n",
              "      <td>0</td>\n",
              "      <td>NaN</td>\n",
              "    </tr>\n",
              "    <tr>\n",
              "      <th>24381</th>\n",
              "      <td>779688501955130604</td>\n",
              "      <td>Camera doppia in appartamento condiviso</td>\n",
              "      <td>21768240</td>\n",
              "      <td>Carlo</td>\n",
              "      <td>NaN</td>\n",
              "      <td>XI Arvalia/Portuense</td>\n",
              "      <td>41.872206</td>\n",
              "      <td>12.467717</td>\n",
              "      <td>Private room</td>\n",
              "      <td>73</td>\n",
              "      <td>2</td>\n",
              "      <td>0</td>\n",
              "      <td>NaN</td>\n",
              "      <td>NaN</td>\n",
              "      <td>6</td>\n",
              "      <td>361</td>\n",
              "      <td>0</td>\n",
              "      <td>NaN</td>\n",
              "    </tr>\n",
              "    <tr>\n",
              "      <th>24382</th>\n",
              "      <td>780297137357906205</td>\n",
              "      <td>Porta Portese Modern Apartment</td>\n",
              "      <td>2405376</td>\n",
              "      <td>Lorenzo</td>\n",
              "      <td>NaN</td>\n",
              "      <td>XII Monte Verde</td>\n",
              "      <td>41.878543</td>\n",
              "      <td>12.468261</td>\n",
              "      <td>Entire home/apt</td>\n",
              "      <td>213</td>\n",
              "      <td>3</td>\n",
              "      <td>0</td>\n",
              "      <td>NaN</td>\n",
              "      <td>NaN</td>\n",
              "      <td>46</td>\n",
              "      <td>364</td>\n",
              "      <td>0</td>\n",
              "      <td>NaN</td>\n",
              "    </tr>\n",
              "  </tbody>\n",
              "</table>\n",
              "</div>\n",
              "      <button class=\"colab-df-convert\" onclick=\"convertToInteractive('df-512ac441-1364-4650-9eae-a984a7842887')\"\n",
              "              title=\"Convert this dataframe to an interactive table.\"\n",
              "              style=\"display:none;\">\n",
              "        \n",
              "  <svg xmlns=\"http://www.w3.org/2000/svg\" height=\"24px\"viewBox=\"0 0 24 24\"\n",
              "       width=\"24px\">\n",
              "    <path d=\"M0 0h24v24H0V0z\" fill=\"none\"/>\n",
              "    <path d=\"M18.56 5.44l.94 2.06.94-2.06 2.06-.94-2.06-.94-.94-2.06-.94 2.06-2.06.94zm-11 1L8.5 8.5l.94-2.06 2.06-.94-2.06-.94L8.5 2.5l-.94 2.06-2.06.94zm10 10l.94 2.06.94-2.06 2.06-.94-2.06-.94-.94-2.06-.94 2.06-2.06.94z\"/><path d=\"M17.41 7.96l-1.37-1.37c-.4-.4-.92-.59-1.43-.59-.52 0-1.04.2-1.43.59L10.3 9.45l-7.72 7.72c-.78.78-.78 2.05 0 2.83L4 21.41c.39.39.9.59 1.41.59.51 0 1.02-.2 1.41-.59l7.78-7.78 2.81-2.81c.8-.78.8-2.07 0-2.86zM5.41 20L4 18.59l7.72-7.72 1.47 1.35L5.41 20z\"/>\n",
              "  </svg>\n",
              "      </button>\n",
              "      \n",
              "  <style>\n",
              "    .colab-df-container {\n",
              "      display:flex;\n",
              "      flex-wrap:wrap;\n",
              "      gap: 12px;\n",
              "    }\n",
              "\n",
              "    .colab-df-convert {\n",
              "      background-color: #E8F0FE;\n",
              "      border: none;\n",
              "      border-radius: 50%;\n",
              "      cursor: pointer;\n",
              "      display: none;\n",
              "      fill: #1967D2;\n",
              "      height: 32px;\n",
              "      padding: 0 0 0 0;\n",
              "      width: 32px;\n",
              "    }\n",
              "\n",
              "    .colab-df-convert:hover {\n",
              "      background-color: #E2EBFA;\n",
              "      box-shadow: 0px 1px 2px rgba(60, 64, 67, 0.3), 0px 1px 3px 1px rgba(60, 64, 67, 0.15);\n",
              "      fill: #174EA6;\n",
              "    }\n",
              "\n",
              "    [theme=dark] .colab-df-convert {\n",
              "      background-color: #3B4455;\n",
              "      fill: #D2E3FC;\n",
              "    }\n",
              "\n",
              "    [theme=dark] .colab-df-convert:hover {\n",
              "      background-color: #434B5C;\n",
              "      box-shadow: 0px 1px 3px 1px rgba(0, 0, 0, 0.15);\n",
              "      filter: drop-shadow(0px 1px 2px rgba(0, 0, 0, 0.3));\n",
              "      fill: #FFFFFF;\n",
              "    }\n",
              "  </style>\n",
              "\n",
              "      <script>\n",
              "        const buttonEl =\n",
              "          document.querySelector('#df-512ac441-1364-4650-9eae-a984a7842887 button.colab-df-convert');\n",
              "        buttonEl.style.display =\n",
              "          google.colab.kernel.accessAllowed ? 'block' : 'none';\n",
              "\n",
              "        async function convertToInteractive(key) {\n",
              "          const element = document.querySelector('#df-512ac441-1364-4650-9eae-a984a7842887');\n",
              "          const dataTable =\n",
              "            await google.colab.kernel.invokeFunction('convertToInteractive',\n",
              "                                                     [key], {});\n",
              "          if (!dataTable) return;\n",
              "\n",
              "          const docLinkHtml = 'Like what you see? Visit the ' +\n",
              "            '<a target=\"_blank\" href=https://colab.research.google.com/notebooks/data_table.ipynb>data table notebook</a>'\n",
              "            + ' to learn more about interactive tables.';\n",
              "          element.innerHTML = '';\n",
              "          dataTable['output_type'] = 'display_data';\n",
              "          await google.colab.output.renderOutput(dataTable, element);\n",
              "          const docLink = document.createElement('div');\n",
              "          docLink.innerHTML = docLinkHtml;\n",
              "          element.appendChild(docLink);\n",
              "        }\n",
              "      </script>\n",
              "    </div>\n",
              "  </div>\n",
              "  "
            ]
          },
          "metadata": {},
          "execution_count": 7
        }
      ]
    },
    {
      "cell_type": "markdown",
      "source": [
        "Utilizando o `dtypes`, vamos entender os tipos das variáveis envolvidas."
      ],
      "metadata": {
        "id": "VDMbox0rmprJ"
      }
    },
    {
      "cell_type": "code",
      "source": [
        "# Analisando os tipos dos dados presentes.\n",
        "df_rome.dtypes"
      ],
      "metadata": {
        "colab": {
          "base_uri": "https://localhost:8080/"
        },
        "id": "uma2HEn6KpKj",
        "outputId": "0cde9faf-86e0-4b4a-a33c-264c22428858"
      },
      "execution_count": 8,
      "outputs": [
        {
          "output_type": "execute_result",
          "data": {
            "text/plain": [
              "id                                  int64\n",
              "name                               object\n",
              "host_id                             int64\n",
              "host_name                          object\n",
              "neighbourhood_group               float64\n",
              "neighbourhood                      object\n",
              "latitude                          float64\n",
              "longitude                         float64\n",
              "room_type                          object\n",
              "price                               int64\n",
              "minimum_nights                      int64\n",
              "number_of_reviews                   int64\n",
              "last_review                        object\n",
              "reviews_per_month                 float64\n",
              "calculated_host_listings_count      int64\n",
              "availability_365                    int64\n",
              "number_of_reviews_ltm               int64\n",
              "license                            object\n",
              "dtype: object"
            ]
          },
          "metadata": {},
          "execution_count": 8
        }
      ]
    },
    {
      "cell_type": "markdown",
      "metadata": {
        "id": "6-B_qtEaYEd-"
      },
      "source": [
        "### **1. Quantos atributos (variáveis) e quantas entradas o nosso conjunto de dados possui? Quais os tipos das variáveis?**"
      ]
    },
    {
      "cell_type": "markdown",
      "source": [
        "A seguir, o objetivo é ver as dimensões do dataset e converter alguns valores que estão fora do tipo que queremos."
      ],
      "metadata": {
        "id": "_SlmxeA4rT-V"
      }
    },
    {
      "cell_type": "code",
      "metadata": {
        "id": "TFRK0tniLV-G",
        "colab": {
          "base_uri": "https://localhost:8080/"
        },
        "outputId": "3bdd3870-7ce4-4150-bf0e-349512a5fd90"
      },
      "source": [
        "# identificar o volume de dados do DataFrame\n",
        "print('Volume de dados do dataset:',\n",
        "      '\\nVariáveis: ', df_rome.shape[1],\n",
        "      '\\nEntradas: ', df_rome.shape[0])"
      ],
      "execution_count": 9,
      "outputs": [
        {
          "output_type": "stream",
          "name": "stdout",
          "text": [
            "Volume de dados do dataset: \n",
            "Variáveis:  18 \n",
            "Entradas:  24383\n"
          ]
        }
      ]
    },
    {
      "cell_type": "markdown",
      "source": [
        "Primeiramente, vamos converter a variável `price` de *int64* para *float*. Assim, podemos contar com os valores decimais dos preços.\n",
        "\n",
        "Além disso, vamos converter as variáveis `id` e `host_id` para objetos do tipo *str*. Fazemos isso para que eles não apareçam nas descrições estatísticas e poluam a visualização. Uma vez que esses números são apenas de identificação, não tem problema deixá-los como *strings*."
      ],
      "metadata": {
        "id": "GgPpsvIPrkTO"
      }
    },
    {
      "cell_type": "code",
      "source": [
        "# Convertendo price de int64 para float\n",
        "df_rome.price = df_rome.price.astype(float)\n",
        "\n",
        "# Convertendo as variáveis id e host_id para o tipo object\n",
        "df_rome[['id', 'host_id']] = df_rome[['id', 'host_id']].astype('str')\n",
        "\n",
        "df_rome.dtypes"
      ],
      "metadata": {
        "colab": {
          "base_uri": "https://localhost:8080/"
        },
        "id": "9cnea33fzTwz",
        "outputId": "e36abdd9-1c1e-435e-f747-9aa0f25dbfbc"
      },
      "execution_count": 10,
      "outputs": [
        {
          "output_type": "execute_result",
          "data": {
            "text/plain": [
              "id                                 object\n",
              "name                               object\n",
              "host_id                            object\n",
              "host_name                          object\n",
              "neighbourhood_group               float64\n",
              "neighbourhood                      object\n",
              "latitude                          float64\n",
              "longitude                         float64\n",
              "room_type                          object\n",
              "price                             float64\n",
              "minimum_nights                      int64\n",
              "number_of_reviews                   int64\n",
              "last_review                        object\n",
              "reviews_per_month                 float64\n",
              "calculated_host_listings_count      int64\n",
              "availability_365                    int64\n",
              "number_of_reviews_ltm               int64\n",
              "license                            object\n",
              "dtype: object"
            ]
          },
          "metadata": {},
          "execution_count": 10
        }
      ]
    },
    {
      "cell_type": "markdown",
      "metadata": {
        "id": "yz1urSUGW9iE"
      },
      "source": [
        "###**2. Qual a porcentagem de valores ausentes no *dataset*?**"
      ]
    },
    {
      "cell_type": "markdown",
      "source": [
        "Nessa seção, o objetivo será o de avaliar a proporção de valores ausentes no dataset. Conhecendo quais variáveis possui mais entradas nulas, podemos avaliar para quais devemos fazer a limpeza ou o preenchimento desses valores ausentes.\n",
        "\n",
        "Primeiramente, vamos avaliar qual o número acumulado de valores ausentes para cada variável, utilizando a função `.isnull()`, somando com `.sum()` e classificando os valores do maior para o menor com `.sort_values()`.\n"
      ],
      "metadata": {
        "id": "ZxPHLLJozr7U"
      }
    },
    {
      "cell_type": "code",
      "metadata": {
        "id": "plk2FjbCXOqP",
        "colab": {
          "base_uri": "https://localhost:8080/"
        },
        "outputId": "024f8c2a-2b5c-41d6-cf46-54c59b9c6e3c"
      },
      "source": [
        "(df_rome.isnull().sum()).sort_values(ascending = False)"
      ],
      "execution_count": 11,
      "outputs": [
        {
          "output_type": "execute_result",
          "data": {
            "text/plain": [
              "neighbourhood_group               24383\n",
              "license                           20329\n",
              "reviews_per_month                  3480\n",
              "last_review                        3480\n",
              "name                                  3\n",
              "host_name                             1\n",
              "number_of_reviews                     0\n",
              "number_of_reviews_ltm                 0\n",
              "availability_365                      0\n",
              "calculated_host_listings_count        0\n",
              "id                                    0\n",
              "minimum_nights                        0\n",
              "room_type                             0\n",
              "longitude                             0\n",
              "latitude                              0\n",
              "neighbourhood                         0\n",
              "host_id                               0\n",
              "price                                 0\n",
              "dtype: int64"
            ]
          },
          "metadata": {},
          "execution_count": 11
        }
      ]
    },
    {
      "cell_type": "markdown",
      "source": [
        "Em seguidam vamos calcular a porcentagem que mostra a proporção de valores nulos com relação ao número total de entradas do dataset."
      ],
      "metadata": {
        "id": "wDykVvBOz3_r"
      }
    },
    {
      "cell_type": "code",
      "source": [
        "(df_rome.isnull().sum() / df_rome.shape[0]*100).sort_values(ascending = False)[:10]"
      ],
      "metadata": {
        "colab": {
          "base_uri": "https://localhost:8080/"
        },
        "id": "ExhP03p6z669",
        "outputId": "3ce395c2-eaf2-4d24-92a6-7883f69b4d74"
      },
      "execution_count": 12,
      "outputs": [
        {
          "output_type": "execute_result",
          "data": {
            "text/plain": [
              "neighbourhood_group               100.000000\n",
              "license                            83.373662\n",
              "reviews_per_month                  14.272239\n",
              "last_review                        14.272239\n",
              "name                                0.012304\n",
              "host_name                           0.004101\n",
              "number_of_reviews                   0.000000\n",
              "number_of_reviews_ltm               0.000000\n",
              "availability_365                    0.000000\n",
              "calculated_host_listings_count      0.000000\n",
              "dtype: float64"
            ]
          },
          "metadata": {},
          "execution_count": 12
        }
      ]
    },
    {
      "cell_type": "markdown",
      "source": [
        "Note que temos:\n",
        "\n",
        "* 100% de valores ausentes para a variável `neighbourhood_group`\n",
        "* 83% para a variável `license`\n",
        "* 14% para as variáveis `reviews_per_month` e `last_review`\n",
        "\n",
        "As outras variáveis apresentam um proporção muito pequena de valores nulos, e não influenciam na análise proposta."
      ],
      "metadata": {
        "id": "cwFTQCfZs8-N"
      }
    },
    {
      "cell_type": "markdown",
      "source": [
        "**Verificando entradas duplicadas**"
      ],
      "metadata": {
        "id": "_TUquXiwtwTN"
      }
    },
    {
      "cell_type": "code",
      "source": [
        "if df_rome.duplicated().sum() > 0:\n",
        "  print('Existem {} entradas duplicadas'.format(df_rome.duplicated().sum()))\n",
        "else:\n",
        "  print('Não existem entradas duplicadas')"
      ],
      "metadata": {
        "colab": {
          "base_uri": "https://localhost:8080/"
        },
        "id": "LK0UVfezuSXX",
        "outputId": "4e2efb5d-f6b0-414f-e3e6-8a0810b6ff45"
      },
      "execution_count": 13,
      "outputs": [
        {
          "output_type": "stream",
          "name": "stdout",
          "text": [
            "Não existem entradas duplicadas\n"
          ]
        }
      ]
    },
    {
      "cell_type": "markdown",
      "metadata": {
        "id": "iHXvvHIxaoNc"
      },
      "source": [
        "### **3. Qual o tipo de distribuição das variáveis?** "
      ]
    },
    {
      "cell_type": "markdown",
      "source": [
        "Vamos analisar agora as distribuições estatísticas das variáveis, visualizando um conjunto de histogramas com os dados referentes a cada variável numérica."
      ],
      "metadata": {
        "id": "IR8rcXTq0Go8"
      }
    },
    {
      "cell_type": "code",
      "source": [
        "df_rome.hist(bins = 15, figsize = (15, 10), grid = False, color = 'r');"
      ],
      "metadata": {
        "id": "Iu2E4s2sWKYM",
        "colab": {
          "base_uri": "https://localhost:8080/",
          "height": 607
        },
        "outputId": "8a445a3d-3ffb-4835-ca54-c87a37b0cf11"
      },
      "execution_count": 14,
      "outputs": [
        {
          "output_type": "display_data",
          "data": {
            "text/plain": [
              "<Figure size 1080x720 with 12 Axes>"
            ],
            "image/png": "[encoded data removed]"
          },
          "metadata": {
            "needs_background": "light"
          }
        }
      ]
    },
    {
      "cell_type": "markdown",
      "source": [
        "Observa-se, a partir desses histogramas, que as variáveis `price` e `minimum_nights` apresentam outliers, uma vez que a distribuição está totalmente concentrada no intervalo mais próximo de 0 e se estende ate valores muito altos. \n",
        "\n",
        "Vamos analisar a descrição estatística e observar como se comportam a média, mediana e os valores máximos e mínimos. Para isso, utilizaremos a função `describe()`."
      ],
      "metadata": {
        "id": "HN6hL78R0rAJ"
      }
    },
    {
      "cell_type": "code",
      "source": [
        "df_rome.describe().round(2)"
      ],
      "metadata": {
        "colab": {
          "base_uri": "https://localhost:8080/",
          "height": 300
        },
        "id": "PlXqCLLg1GH8",
        "outputId": "456e7f90-51b7-4410-f8fe-a1beccc129cc"
      },
      "execution_count": 15,
      "outputs": [
        {
          "output_type": "execute_result",
          "data": {
            "text/plain": [
              "       neighbourhood_group  latitude  longitude     price  minimum_nights  \\\n",
              "count                  0.0  24383.00   24383.00  24383.00        24383.00   \n",
              "mean                   NaN     41.89      12.48    235.62            3.53   \n",
              "std                    NaN      0.03       0.05   2261.05           18.79   \n",
              "min                    NaN     41.66      12.25      0.00            1.00   \n",
              "25%                    NaN     41.89      12.46     65.00            1.00   \n",
              "50%                    NaN     41.90      12.48     92.00            2.00   \n",
              "75%                    NaN     41.91      12.50    140.00            3.00   \n",
              "max                    NaN     42.12      12.79  96160.00          999.00   \n",
              "\n",
              "       number_of_reviews  reviews_per_month  calculated_host_listings_count  \\\n",
              "count           24383.00           20903.00                        24383.00   \n",
              "mean               52.69               1.50                            8.57   \n",
              "std                83.18               1.54                           25.51   \n",
              "min                 0.00               0.01                            1.00   \n",
              "25%                 3.00               0.33                            1.00   \n",
              "50%                18.00               1.00                            3.00   \n",
              "75%                66.00               2.22                            6.00   \n",
              "max              1270.00              34.83                          221.00   \n",
              "\n",
              "       availability_365  number_of_reviews_ltm  \n",
              "count          24383.00               24383.00  \n",
              "mean             201.70                  14.16  \n",
              "std              129.26                  19.91  \n",
              "min                0.00                   0.00  \n",
              "25%               79.00                   0.00  \n",
              "50%              226.00                   5.00  \n",
              "75%              327.00                  22.00  \n",
              "max              365.00                 765.00  "
            ],
            "text/html": [
              "\n",
              "  <div id=\"df-01f9c980-c006-44d1-a84b-4051d977542b\">\n",
              "    <div class=\"colab-df-container\">\n",
              "      <div>\n",
              "<style scoped>\n",
              "    .dataframe tbody tr th:only-of-type {\n",
              "        vertical-align: middle;\n",
              "    }\n",
              "\n",
              "    .dataframe tbody tr th {\n",
              "        vertical-align: top;\n",
              "    }\n",
              "\n",
              "    .dataframe thead th {\n",
              "        text-align: right;\n",
              "    }\n",
              "</style>\n",
              "<table border=\"1\" class=\"dataframe\">\n",
              "  <thead>\n",
              "    <tr style=\"text-align: right;\">\n",
              "      <th></th>\n",
              "      <th>neighbourhood_group</th>\n",
              "      <th>latitude</th>\n",
              "      <th>longitude</th>\n",
              "      <th>price</th>\n",
              "      <th>minimum_nights</th>\n",
              "      <th>number_of_reviews</th>\n",
              "      <th>reviews_per_month</th>\n",
              "      <th>calculated_host_listings_count</th>\n",
              "      <th>availability_365</th>\n",
              "      <th>number_of_reviews_ltm</th>\n",
              "    </tr>\n",
              "  </thead>\n",
              "  <tbody>\n",
              "    <tr>\n",
              "      <th>count</th>\n",
              "      <td>0.0</td>\n",
              "      <td>24383.00</td>\n",
              "      <td>24383.00</td>\n",
              "      <td>24383.00</td>\n",
              "      <td>24383.00</td>\n",
              "      <td>24383.00</td>\n",
              "      <td>20903.00</td>\n",
              "      <td>24383.00</td>\n",
              "      <td>24383.00</td>\n",
              "      <td>24383.00</td>\n",
              "    </tr>\n",
              "    <tr>\n",
              "      <th>mean</th>\n",
              "      <td>NaN</td>\n",
              "      <td>41.89</td>\n",
              "      <td>12.48</td>\n",
              "      <td>235.62</td>\n",
              "      <td>3.53</td>\n",
              "      <td>52.69</td>\n",
              "      <td>1.50</td>\n",
              "      <td>8.57</td>\n",
              "      <td>201.70</td>\n",
              "      <td>14.16</td>\n",
              "    </tr>\n",
              "    <tr>\n",
              "      <th>std</th>\n",
              "      <td>NaN</td>\n",
              "      <td>0.03</td>\n",
              "      <td>0.05</td>\n",
              "      <td>2261.05</td>\n",
              "      <td>18.79</td>\n",
              "      <td>83.18</td>\n",
              "      <td>1.54</td>\n",
              "      <td>25.51</td>\n",
              "      <td>129.26</td>\n",
              "      <td>19.91</td>\n",
              "    </tr>\n",
              "    <tr>\n",
              "      <th>min</th>\n",
              "      <td>NaN</td>\n",
              "      <td>41.66</td>\n",
              "      <td>12.25</td>\n",
              "      <td>0.00</td>\n",
              "      <td>1.00</td>\n",
              "      <td>0.00</td>\n",
              "      <td>0.01</td>\n",
              "      <td>1.00</td>\n",
              "      <td>0.00</td>\n",
              "      <td>0.00</td>\n",
              "    </tr>\n",
              "    <tr>\n",
              "      <th>25%</th>\n",
              "      <td>NaN</td>\n",
              "      <td>41.89</td>\n",
              "      <td>12.46</td>\n",
              "      <td>65.00</td>\n",
              "      <td>1.00</td>\n",
              "      <td>3.00</td>\n",
              "      <td>0.33</td>\n",
              "      <td>1.00</td>\n",
              "      <td>79.00</td>\n",
              "      <td>0.00</td>\n",
              "    </tr>\n",
              "    <tr>\n",
              "      <th>50%</th>\n",
              "      <td>NaN</td>\n",
              "      <td>41.90</td>\n",
              "      <td>12.48</td>\n",
              "      <td>92.00</td>\n",
              "      <td>2.00</td>\n",
              "      <td>18.00</td>\n",
              "      <td>1.00</td>\n",
              "      <td>3.00</td>\n",
              "      <td>226.00</td>\n",
              "      <td>5.00</td>\n",
              "    </tr>\n",
              "    <tr>\n",
              "      <th>75%</th>\n",
              "      <td>NaN</td>\n",
              "      <td>41.91</td>\n",
              "      <td>12.50</td>\n",
              "      <td>140.00</td>\n",
              "      <td>3.00</td>\n",
              "      <td>66.00</td>\n",
              "      <td>2.22</td>\n",
              "      <td>6.00</td>\n",
              "      <td>327.00</td>\n",
              "      <td>22.00</td>\n",
              "    </tr>\n",
              "    <tr>\n",
              "      <th>max</th>\n",
              "      <td>NaN</td>\n",
              "      <td>42.12</td>\n",
              "      <td>12.79</td>\n",
              "      <td>96160.00</td>\n",
              "      <td>999.00</td>\n",
              "      <td>1270.00</td>\n",
              "      <td>34.83</td>\n",
              "      <td>221.00</td>\n",
              "      <td>365.00</td>\n",
              "      <td>765.00</td>\n",
              "    </tr>\n",
              "  </tbody>\n",
              "</table>\n",
              "</div>\n",
              "      <button class=\"colab-df-convert\" onclick=\"convertToInteractive('df-01f9c980-c006-44d1-a84b-4051d977542b')\"\n",
              "              title=\"Convert this dataframe to an interactive table.\"\n",
              "              style=\"display:none;\">\n",
              "        \n",
              "  <svg xmlns=\"http://www.w3.org/2000/svg\" height=\"24px\"viewBox=\"0 0 24 24\"\n",
              "       width=\"24px\">\n",
              "    <path d=\"M0 0h24v24H0V0z\" fill=\"none\"/>\n",
              "    <path d=\"M18.56 5.44l.94 2.06.94-2.06 2.06-.94-2.06-.94-.94-2.06-.94 2.06-2.06.94zm-11 1L8.5 8.5l.94-2.06 2.06-.94-2.06-.94L8.5 2.5l-.94 2.06-2.06.94zm10 10l.94 2.06.94-2.06 2.06-.94-2.06-.94-.94-2.06-.94 2.06-2.06.94z\"/><path d=\"M17.41 7.96l-1.37-1.37c-.4-.4-.92-.59-1.43-.59-.52 0-1.04.2-1.43.59L10.3 9.45l-7.72 7.72c-.78.78-.78 2.05 0 2.83L4 21.41c.39.39.9.59 1.41.59.51 0 1.02-.2 1.41-.59l7.78-7.78 2.81-2.81c.8-.78.8-2.07 0-2.86zM5.41 20L4 18.59l7.72-7.72 1.47 1.35L5.41 20z\"/>\n",
              "  </svg>\n",
              "      </button>\n",
              "      \n",
              "  <style>\n",
              "    .colab-df-container {\n",
              "      display:flex;\n",
              "      flex-wrap:wrap;\n",
              "      gap: 12px;\n",
              "    }\n",
              "\n",
              "    .colab-df-convert {\n",
              "      background-color: #E8F0FE;\n",
              "      border: none;\n",
              "      border-radius: 50%;\n",
              "      cursor: pointer;\n",
              "      display: none;\n",
              "      fill: #1967D2;\n",
              "      height: 32px;\n",
              "      padding: 0 0 0 0;\n",
              "      width: 32px;\n",
              "    }\n",
              "\n",
              "    .colab-df-convert:hover {\n",
              "      background-color: #E2EBFA;\n",
              "      box-shadow: 0px 1px 2px rgba(60, 64, 67, 0.3), 0px 1px 3px 1px rgba(60, 64, 67, 0.15);\n",
              "      fill: #174EA6;\n",
              "    }\n",
              "\n",
              "    [theme=dark] .colab-df-convert {\n",
              "      background-color: #3B4455;\n",
              "      fill: #D2E3FC;\n",
              "    }\n",
              "\n",
              "    [theme=dark] .colab-df-convert:hover {\n",
              "      background-color: #434B5C;\n",
              "      box-shadow: 0px 1px 3px 1px rgba(0, 0, 0, 0.15);\n",
              "      filter: drop-shadow(0px 1px 2px rgba(0, 0, 0, 0.3));\n",
              "      fill: #FFFFFF;\n",
              "    }\n",
              "  </style>\n",
              "\n",
              "      <script>\n",
              "        const buttonEl =\n",
              "          document.querySelector('#df-01f9c980-c006-44d1-a84b-4051d977542b button.colab-df-convert');\n",
              "        buttonEl.style.display =\n",
              "          google.colab.kernel.accessAllowed ? 'block' : 'none';\n",
              "\n",
              "        async function convertToInteractive(key) {\n",
              "          const element = document.querySelector('#df-01f9c980-c006-44d1-a84b-4051d977542b');\n",
              "          const dataTable =\n",
              "            await google.colab.kernel.invokeFunction('convertToInteractive',\n",
              "                                                     [key], {});\n",
              "          if (!dataTable) return;\n",
              "\n",
              "          const docLinkHtml = 'Like what you see? Visit the ' +\n",
              "            '<a target=\"_blank\" href=https://colab.research.google.com/notebooks/data_table.ipynb>data table notebook</a>'\n",
              "            + ' to learn more about interactive tables.';\n",
              "          element.innerHTML = '';\n",
              "          dataTable['output_type'] = 'display_data';\n",
              "          await google.colab.output.renderOutput(dataTable, element);\n",
              "          const docLink = document.createElement('div');\n",
              "          docLink.innerHTML = docLinkHtml;\n",
              "          element.appendChild(docLink);\n",
              "        }\n",
              "      </script>\n",
              "    </div>\n",
              "  </div>\n",
              "  "
            ]
          },
          "metadata": {},
          "execution_count": 15
        }
      ]
    },
    {
      "cell_type": "markdown",
      "source": [
        "Note que, para a variável `price`, temos uma média de € 235,6, enquanto a mediana aponta que metade dos valores estão abaixo de € 92,0. A tendência enviesada da média devido aos outliers fica evidente ao avaliarmos o valor máximo de € 96160, muito distoante do restante dos dados.\n",
        "\n",
        "A mesma análise vale para a variável `minimum_nights`. Note que o valor máximo é de 999 noites, que é muito mais que os 365 dias do ano. Este tipo de entrada não faz sentido, pois ninguém alugaria uma hospedagem cujo mínimo de noites seja maior do que 1 ano.\n",
        "\n",
        "Observando essas duas variáveis, vemos a necessidade de tratar os dados ausentes e outliers."
      ],
      "metadata": {
        "id": "tI5SitaU1YcB"
      }
    },
    {
      "cell_type": "markdown",
      "source": [
        "### **4. Tratamento de valores ausentes**"
      ],
      "metadata": {
        "id": "RKzboHZSWK4y"
      }
    },
    {
      "cell_type": "markdown",
      "source": [
        "Vamos retomar a análise feita anteriormente, em que foi observada a proporção de valores ausentes no dataset."
      ],
      "metadata": {
        "id": "oBvyIsvxNvSL"
      }
    },
    {
      "cell_type": "code",
      "source": [
        "(df_rome.isnull().sum() / df_rome.shape[0]*100).sort_values(ascending = False)[:10]"
      ],
      "metadata": {
        "id": "oQVcVrm4Wavi",
        "colab": {
          "base_uri": "https://localhost:8080/"
        },
        "outputId": "6543f815-1527-4288-d3fb-a3f8a0a8b48f"
      },
      "execution_count": 16,
      "outputs": [
        {
          "output_type": "execute_result",
          "data": {
            "text/plain": [
              "neighbourhood_group               100.000000\n",
              "license                            83.373662\n",
              "reviews_per_month                  14.272239\n",
              "last_review                        14.272239\n",
              "name                                0.012304\n",
              "host_name                           0.004101\n",
              "number_of_reviews                   0.000000\n",
              "number_of_reviews_ltm               0.000000\n",
              "availability_365                    0.000000\n",
              "calculated_host_listings_count      0.000000\n",
              "dtype: float64"
            ]
          },
          "metadata": {},
          "execution_count": 16
        }
      ]
    },
    {
      "cell_type": "markdown",
      "source": [
        "Para a nossa análise, as colunas de dados ausentes não apresentam nenhuma relevância com o objetivo proposto. Assim, iremos excluir as colunas `neighbourhood_group`, `license` e `last_review`. \n",
        "\n",
        "Depois, iremos excluir as entradas de valores ausentes, já que representam uma proporção menor do dataset."
      ],
      "metadata": {
        "id": "j78kv3-c3dpI"
      }
    },
    {
      "cell_type": "code",
      "source": [
        "df_clean = df_rome.copy() # Criando uma cópia de backup do dataset\n",
        "\n",
        "# Excluindo as colunas com grande proporção de dados ausentes\n",
        "df_clean.drop(columns = ['neighbourhood_group', 'license', 'last_review'], inplace = True)\n",
        "\n",
        "# Completando os valores ausentes da coluna reviews_per_month com sua mediana.\n",
        "median_rpm = df_clean.reviews_per_month.median()\n",
        "df_clean = df_clean.fillna({'reviews_per_month': median_rpm})\n",
        "\n",
        "# Excluindo entradas com dados ausentes\n",
        "df_clean.dropna(axis = 0, inplace = True)"
      ],
      "metadata": {
        "id": "wz2Lkdbc4HXT"
      },
      "execution_count": 17,
      "outputs": []
    },
    {
      "cell_type": "markdown",
      "source": [
        "Note que, em primeiro lugar, foi criado uma cópia do dataset, utilizando a função `.copy()`. Assim, qualquer mudança feita `inplace` é realizada no novo dataset, preservando o original como *backup* e para comparações.\n",
        "\n",
        "Em seguida, foram excluídas as colunas com grandes proporções de valores ausentes. Se, por outro lado, as entradas fossem excluídas primeiro, muitos dados do dataset seriam perdidos, inclusive aqueles das variáveis que nos interessam. \n",
        "\n",
        "Por isso, apenas depois de excluir as colunas é que foram excluídas as entradas com valores ausentes. Nessa etapa, também já havíamos preenchido com a mediana a coluna `reviews_per_month`, que continha 14% de valores ausentes. \n",
        "\n",
        "Dessa forma, na hora de apagar as entradas com valores nulos, tivemos apenas 0,01% dos dados excluídos."
      ],
      "metadata": {
        "id": "ogRDO_P1OLOW"
      }
    },
    {
      "cell_type": "markdown",
      "source": [
        "#### Dimensões do dataset após a limpeza de valores ausentes"
      ],
      "metadata": {
        "id": "PjLs6WpxP0Qd"
      }
    },
    {
      "cell_type": "code",
      "source": [
        "print('Volume do dataset:',\n",
        "      '\\nAntes: ', df_rome.shape,\n",
        "      '\\nDepois: ', df_clean.shape)"
      ],
      "metadata": {
        "colab": {
          "base_uri": "https://localhost:8080/"
        },
        "id": "hlyArp9f4thn",
        "outputId": "03d079cc-1543-466a-b76a-e16bf60df18c"
      },
      "execution_count": 18,
      "outputs": [
        {
          "output_type": "stream",
          "name": "stdout",
          "text": [
            "Volume do dataset: \n",
            "Antes:  (24383, 18) \n",
            "Depois:  (24379, 15)\n"
          ]
        }
      ]
    },
    {
      "cell_type": "markdown",
      "source": [
        "Comparando as dimensões antes e depois, observamos que três colunas foram excluídas e apenas 4 entradas foram apagadas.\n",
        "\n",
        "Checando novamente a porcentagem de valores ausentes após a limpeza:"
      ],
      "metadata": {
        "id": "fKrF6rHgXROW"
      }
    },
    {
      "cell_type": "code",
      "source": [
        "(df_clean.isnull().sum() / df_rome.shape[0]*100).sort_values(ascending = False)"
      ],
      "metadata": {
        "colab": {
          "base_uri": "https://localhost:8080/"
        },
        "id": "DXf5R_nL5VlT",
        "outputId": "94e4b10b-cff6-4581-c280-046f78ea3b86"
      },
      "execution_count": 19,
      "outputs": [
        {
          "output_type": "execute_result",
          "data": {
            "text/plain": [
              "id                                0.0\n",
              "name                              0.0\n",
              "host_id                           0.0\n",
              "host_name                         0.0\n",
              "neighbourhood                     0.0\n",
              "latitude                          0.0\n",
              "longitude                         0.0\n",
              "room_type                         0.0\n",
              "price                             0.0\n",
              "minimum_nights                    0.0\n",
              "number_of_reviews                 0.0\n",
              "reviews_per_month                 0.0\n",
              "calculated_host_listings_count    0.0\n",
              "availability_365                  0.0\n",
              "number_of_reviews_ltm             0.0\n",
              "dtype: float64"
            ]
          },
          "metadata": {},
          "execution_count": 19
        }
      ]
    },
    {
      "cell_type": "markdown",
      "source": [
        "Note que, agora, não há nenhum dado ausente no dataset. O volume diminuiu em quantidade de entradas e de variáveis. Porém, agora temos um conjunto de dados muito mais interessante para a análise. \n",
        "\n",
        "Vamos novamente utilizar a função `.describe()` para obervar as distribuições estatísticas."
      ],
      "metadata": {
        "id": "wJQfJUHW504i"
      }
    },
    {
      "cell_type": "code",
      "source": [
        "df_clean.describe().round(2)"
      ],
      "metadata": {
        "colab": {
          "base_uri": "https://localhost:8080/",
          "height": 300
        },
        "id": "Uzh9kAe_6Dip",
        "outputId": "a677b9d6-464a-4a11-cab9-dc73fde96e04"
      },
      "execution_count": 20,
      "outputs": [
        {
          "output_type": "execute_result",
          "data": {
            "text/plain": [
              "       latitude  longitude     price  minimum_nights  number_of_reviews  \\\n",
              "count  24379.00   24379.00  24379.00        24379.00           24379.00   \n",
              "mean      41.89      12.48    235.61            3.53              52.70   \n",
              "std        0.03       0.05   2261.23           18.79              83.18   \n",
              "min       41.66      12.25      0.00            1.00               0.00   \n",
              "25%       41.89      12.46     65.00            1.00               3.00   \n",
              "50%       41.90      12.48     92.00            2.00              18.00   \n",
              "75%       41.91      12.50    140.00            3.00              66.00   \n",
              "max       42.12      12.79  96160.00          999.00            1270.00   \n",
              "\n",
              "       reviews_per_month  calculated_host_listings_count  availability_365  \\\n",
              "count           24379.00                        24379.00          24379.00   \n",
              "mean                1.43                            8.57            201.70   \n",
              "std                 1.43                           25.51            129.25   \n",
              "min                 0.01                            1.00              0.00   \n",
              "25%                 0.42                            1.00             79.00   \n",
              "50%                 1.00                            3.00            226.00   \n",
              "75%                 1.96                            6.00            327.00   \n",
              "max                34.83                          221.00            365.00   \n",
              "\n",
              "       number_of_reviews_ltm  \n",
              "count               24379.00  \n",
              "mean                   14.16  \n",
              "std                    19.91  \n",
              "min                     0.00  \n",
              "25%                     0.00  \n",
              "50%                     5.00  \n",
              "75%                    22.00  \n",
              "max                   765.00  "
            ],
            "text/html": [
              "\n",
              "  <div id=\"df-702ee5b0-88d6-48e0-848a-4cedd50460de\">\n",
              "    <div class=\"colab-df-container\">\n",
              "      <div>\n",
              "<style scoped>\n",
              "    .dataframe tbody tr th:only-of-type {\n",
              "        vertical-align: middle;\n",
              "    }\n",
              "\n",
              "    .dataframe tbody tr th {\n",
              "        vertical-align: top;\n",
              "    }\n",
              "\n",
              "    .dataframe thead th {\n",
              "        text-align: right;\n",
              "    }\n",
              "</style>\n",
              "<table border=\"1\" class=\"dataframe\">\n",
              "  <thead>\n",
              "    <tr style=\"text-align: right;\">\n",
              "      <th></th>\n",
              "      <th>latitude</th>\n",
              "      <th>longitude</th>\n",
              "      <th>price</th>\n",
              "      <th>minimum_nights</th>\n",
              "      <th>number_of_reviews</th>\n",
              "      <th>reviews_per_month</th>\n",
              "      <th>calculated_host_listings_count</th>\n",
              "      <th>availability_365</th>\n",
              "      <th>number_of_reviews_ltm</th>\n",
              "    </tr>\n",
              "  </thead>\n",
              "  <tbody>\n",
              "    <tr>\n",
              "      <th>count</th>\n",
              "      <td>24379.00</td>\n",
              "      <td>24379.00</td>\n",
              "      <td>24379.00</td>\n",
              "      <td>24379.00</td>\n",
              "      <td>24379.00</td>\n",
              "      <td>24379.00</td>\n",
              "      <td>24379.00</td>\n",
              "      <td>24379.00</td>\n",
              "      <td>24379.00</td>\n",
              "    </tr>\n",
              "    <tr>\n",
              "      <th>mean</th>\n",
              "      <td>41.89</td>\n",
              "      <td>12.48</td>\n",
              "      <td>235.61</td>\n",
              "      <td>3.53</td>\n",
              "      <td>52.70</td>\n",
              "      <td>1.43</td>\n",
              "      <td>8.57</td>\n",
              "      <td>201.70</td>\n",
              "      <td>14.16</td>\n",
              "    </tr>\n",
              "    <tr>\n",
              "      <th>std</th>\n",
              "      <td>0.03</td>\n",
              "      <td>0.05</td>\n",
              "      <td>2261.23</td>\n",
              "      <td>18.79</td>\n",
              "      <td>83.18</td>\n",
              "      <td>1.43</td>\n",
              "      <td>25.51</td>\n",
              "      <td>129.25</td>\n",
              "      <td>19.91</td>\n",
              "    </tr>\n",
              "    <tr>\n",
              "      <th>min</th>\n",
              "      <td>41.66</td>\n",
              "      <td>12.25</td>\n",
              "      <td>0.00</td>\n",
              "      <td>1.00</td>\n",
              "      <td>0.00</td>\n",
              "      <td>0.01</td>\n",
              "      <td>1.00</td>\n",
              "      <td>0.00</td>\n",
              "      <td>0.00</td>\n",
              "    </tr>\n",
              "    <tr>\n",
              "      <th>25%</th>\n",
              "      <td>41.89</td>\n",
              "      <td>12.46</td>\n",
              "      <td>65.00</td>\n",
              "      <td>1.00</td>\n",
              "      <td>3.00</td>\n",
              "      <td>0.42</td>\n",
              "      <td>1.00</td>\n",
              "      <td>79.00</td>\n",
              "      <td>0.00</td>\n",
              "    </tr>\n",
              "    <tr>\n",
              "      <th>50%</th>\n",
              "      <td>41.90</td>\n",
              "      <td>12.48</td>\n",
              "      <td>92.00</td>\n",
              "      <td>2.00</td>\n",
              "      <td>18.00</td>\n",
              "      <td>1.00</td>\n",
              "      <td>3.00</td>\n",
              "      <td>226.00</td>\n",
              "      <td>5.00</td>\n",
              "    </tr>\n",
              "    <tr>\n",
              "      <th>75%</th>\n",
              "      <td>41.91</td>\n",
              "      <td>12.50</td>\n",
              "      <td>140.00</td>\n",
              "      <td>3.00</td>\n",
              "      <td>66.00</td>\n",
              "      <td>1.96</td>\n",
              "      <td>6.00</td>\n",
              "      <td>327.00</td>\n",
              "      <td>22.00</td>\n",
              "    </tr>\n",
              "    <tr>\n",
              "      <th>max</th>\n",
              "      <td>42.12</td>\n",
              "      <td>12.79</td>\n",
              "      <td>96160.00</td>\n",
              "      <td>999.00</td>\n",
              "      <td>1270.00</td>\n",
              "      <td>34.83</td>\n",
              "      <td>221.00</td>\n",
              "      <td>365.00</td>\n",
              "      <td>765.00</td>\n",
              "    </tr>\n",
              "  </tbody>\n",
              "</table>\n",
              "</div>\n",
              "      <button class=\"colab-df-convert\" onclick=\"convertToInteractive('df-702ee5b0-88d6-48e0-848a-4cedd50460de')\"\n",
              "              title=\"Convert this dataframe to an interactive table.\"\n",
              "              style=\"display:none;\">\n",
              "        \n",
              "  <svg xmlns=\"http://www.w3.org/2000/svg\" height=\"24px\"viewBox=\"0 0 24 24\"\n",
              "       width=\"24px\">\n",
              "    <path d=\"M0 0h24v24H0V0z\" fill=\"none\"/>\n",
              "    <path d=\"M18.56 5.44l.94 2.06.94-2.06 2.06-.94-2.06-.94-.94-2.06-.94 2.06-2.06.94zm-11 1L8.5 8.5l.94-2.06 2.06-.94-2.06-.94L8.5 2.5l-.94 2.06-2.06.94zm10 10l.94 2.06.94-2.06 2.06-.94-2.06-.94-.94-2.06-.94 2.06-2.06.94z\"/><path d=\"M17.41 7.96l-1.37-1.37c-.4-.4-.92-.59-1.43-.59-.52 0-1.04.2-1.43.59L10.3 9.45l-7.72 7.72c-.78.78-.78 2.05 0 2.83L4 21.41c.39.39.9.59 1.41.59.51 0 1.02-.2 1.41-.59l7.78-7.78 2.81-2.81c.8-.78.8-2.07 0-2.86zM5.41 20L4 18.59l7.72-7.72 1.47 1.35L5.41 20z\"/>\n",
              "  </svg>\n",
              "      </button>\n",
              "      \n",
              "  <style>\n",
              "    .colab-df-container {\n",
              "      display:flex;\n",
              "      flex-wrap:wrap;\n",
              "      gap: 12px;\n",
              "    }\n",
              "\n",
              "    .colab-df-convert {\n",
              "      background-color: #E8F0FE;\n",
              "      border: none;\n",
              "      border-radius: 50%;\n",
              "      cursor: pointer;\n",
              "      display: none;\n",
              "      fill: #1967D2;\n",
              "      height: 32px;\n",
              "      padding: 0 0 0 0;\n",
              "      width: 32px;\n",
              "    }\n",
              "\n",
              "    .colab-df-convert:hover {\n",
              "      background-color: #E2EBFA;\n",
              "      box-shadow: 0px 1px 2px rgba(60, 64, 67, 0.3), 0px 1px 3px 1px rgba(60, 64, 67, 0.15);\n",
              "      fill: #174EA6;\n",
              "    }\n",
              "\n",
              "    [theme=dark] .colab-df-convert {\n",
              "      background-color: #3B4455;\n",
              "      fill: #D2E3FC;\n",
              "    }\n",
              "\n",
              "    [theme=dark] .colab-df-convert:hover {\n",
              "      background-color: #434B5C;\n",
              "      box-shadow: 0px 1px 3px 1px rgba(0, 0, 0, 0.15);\n",
              "      filter: drop-shadow(0px 1px 2px rgba(0, 0, 0, 0.3));\n",
              "      fill: #FFFFFF;\n",
              "    }\n",
              "  </style>\n",
              "\n",
              "      <script>\n",
              "        const buttonEl =\n",
              "          document.querySelector('#df-702ee5b0-88d6-48e0-848a-4cedd50460de button.colab-df-convert');\n",
              "        buttonEl.style.display =\n",
              "          google.colab.kernel.accessAllowed ? 'block' : 'none';\n",
              "\n",
              "        async function convertToInteractive(key) {\n",
              "          const element = document.querySelector('#df-702ee5b0-88d6-48e0-848a-4cedd50460de');\n",
              "          const dataTable =\n",
              "            await google.colab.kernel.invokeFunction('convertToInteractive',\n",
              "                                                     [key], {});\n",
              "          if (!dataTable) return;\n",
              "\n",
              "          const docLinkHtml = 'Like what you see? Visit the ' +\n",
              "            '<a target=\"_blank\" href=https://colab.research.google.com/notebooks/data_table.ipynb>data table notebook</a>'\n",
              "            + ' to learn more about interactive tables.';\n",
              "          element.innerHTML = '';\n",
              "          dataTable['output_type'] = 'display_data';\n",
              "          await google.colab.output.renderOutput(dataTable, element);\n",
              "          const docLink = document.createElement('div');\n",
              "          docLink.innerHTML = docLinkHtml;\n",
              "          element.appendChild(docLink);\n",
              "        }\n",
              "      </script>\n",
              "    </div>\n",
              "  </div>\n",
              "  "
            ]
          },
          "metadata": {},
          "execution_count": 20
        }
      ]
    },
    {
      "cell_type": "markdown",
      "source": [
        "Agora temos menos variáveis influenciando o resumo estatístico. Porém, restam ainda os *outliers*, que estão enviesando as variáveis `price` e `minimum_nights`."
      ],
      "metadata": {
        "id": "_aU6Obu-6Jjg"
      }
    },
    {
      "cell_type": "markdown",
      "source": [
        "### **5. Tratando os outliers**"
      ],
      "metadata": {
        "id": "Vy2j_hhs6Ugv"
      }
    },
    {
      "cell_type": "markdown",
      "source": [
        "\n",
        "Para tratar dos valores *outliers*, iremos usar o método estatístico do IQR Score. O IQR é uma sigla que significa *Inter-Quartile Range*, ou amplitude entre quartis. Trata-se de um valor que representa a diferença entre o terceiro e o primeiro quartis.\n",
        "\n",
        "Ele é calculado da seguinte forma:\n",
        "\n",
        "$$ IQR = Q_{3} - Q_{1} $$\n",
        "\n",
        "Em que $ Q_{3} $ e $ Q_{1} $ representam o terceiro e primeiro quartis, respectivamente.\n",
        "\n",
        "Com o valor do IQR calculado, podemos definir os limites superior e inferior para fazermos o corte no *dataset* e excluir os *outliers*. Esses valores são calculados da seguinte forma:\n",
        "\n",
        "$$ Q_{sup} = Q_{3} + 1.5\\times{IQR}$$\n",
        "$$ Q_{inf} = Q_{1} - 1.5\\times{IQR} $$\n",
        "\n",
        "Em que $Q_{sup}$ representa o limite superior e $Q_{inf}$ o inferior. A partir desse cálculo, podemos definir um ponto de equilíbrio que limpe os *outliers* sem que para isso comprometa a qualidade das informações do conjunto de dados.\n"
      ],
      "metadata": {
        "id": "GSr3w32HqKN7"
      }
    },
    {
      "cell_type": "markdown",
      "source": [
        "#### Cálculo do IQR - **Variável `price`**"
      ],
      "metadata": {
        "id": "jP1BR-Eg6di9"
      }
    },
    {
      "cell_type": "code",
      "source": [
        "q3_price = df_clean.price.quantile(.75)\n",
        "q1_price = df_clean.price.quantile(.25)\n",
        "\n",
        "IQR_price = q3_price - q1_price\n",
        "\n",
        "print('IQR da variável price: ', IQR_price)"
      ],
      "metadata": {
        "colab": {
          "base_uri": "https://localhost:8080/"
        },
        "id": "456nPkqh6bkC",
        "outputId": "c546a676-89ee-4095-e137-a0a360886a70"
      },
      "execution_count": 21,
      "outputs": [
        {
          "output_type": "stream",
          "name": "stdout",
          "text": [
            "IQR da variável price:  75.0\n"
          ]
        }
      ]
    },
    {
      "cell_type": "markdown",
      "source": [
        "Calculando agora os limites superior e inferior para a variável `price`:"
      ],
      "metadata": {
        "id": "Sp6_GguV8T-J"
      }
    },
    {
      "cell_type": "code",
      "source": [
        "sup_price = q3_price + 1.5*IQR_price\n",
        "inf_price = q1_price - 1.5*IQR_price\n",
        "\n",
        "print('Limite superior da variável price: ', sup_price,\n",
        "      '\\nLimite inferior da variável price: ', inf_price)"
      ],
      "metadata": {
        "colab": {
          "base_uri": "https://localhost:8080/"
        },
        "id": "pLl9xbg_8YY4",
        "outputId": "a20ab2d6-afe8-4f35-81e7-36e82b0c05bb"
      },
      "execution_count": 22,
      "outputs": [
        {
          "output_type": "stream",
          "name": "stdout",
          "text": [
            "Limite superior da variável price:  252.5 \n",
            "Limite inferior da variável price:  -47.5\n"
          ]
        }
      ]
    },
    {
      "cell_type": "markdown",
      "source": [
        "Para a nossa análise, iremos desconsiderar o limite inferior $Q_{inf} = -47,5$, pois o valor negativo não faz sentido nesse contexto.\n",
        "\n",
        "Vamos analisar qual a proporção de dados que estão acima do valor de corte dado pelo IQR Score."
      ],
      "metadata": {
        "id": "bHHIBhZXR6Td"
      }
    },
    {
      "cell_type": "code",
      "source": [
        "fig, ax = plt.subplots(figsize = (15,3))\n",
        "df_clean.price.plot(kind = 'box', vert = False);\n",
        "ax.set_title('Dataset antes da limpeza de outliers - variável price')\n",
        "plt.show()\n",
        "\n",
        "print('O dataset possui {} entradas'.format(df_clean.shape[0]))\n",
        "print('{} entradas acima de 252,5'.format(len(df_clean[df_clean.price > 252.5])))\n",
        "print('Representam {:.2f}% do dataset.'.format(len(df_clean[df_clean.price > 252.5]) / df_clean.shape[0]*100))"
      ],
      "metadata": {
        "colab": {
          "base_uri": "https://localhost:8080/",
          "height": 282
        },
        "id": "sEWEaByu9dbR",
        "outputId": "def94174-35b4-4ce5-f06a-d5c258fe836f"
      },
      "execution_count": 23,
      "outputs": [
        {
          "output_type": "display_data",
          "data": {
            "text/plain": [
              "<Figure size 1080x216 with 1 Axes>"
            ],
            "image/png": "[encoded data removed]"
          },
          "metadata": {
            "needs_background": "light"
          }
        },
        {
          "output_type": "stream",
          "name": "stdout",
          "text": [
            "O dataset possui 24379 entradas\n",
            "2083 entradas acima de 252,5\n",
            "Representam 8.54% do dataset.\n"
          ]
        }
      ]
    },
    {
      "cell_type": "markdown",
      "source": [
        "#### Cálculo do IQR - **Variável `minimum_nights`**"
      ],
      "metadata": {
        "id": "Jflzk9TC_Cwq"
      }
    },
    {
      "cell_type": "markdown",
      "source": [
        "Agora farei o mesmo procedimento para a variável `minimum_nights` antes de prosseguir com a limpeza dos outliers."
      ],
      "metadata": {
        "id": "zpOavcN0SPtC"
      }
    },
    {
      "cell_type": "code",
      "source": [
        "q3_minimum_nights = df_clean.minimum_nights.quantile(.75)\n",
        "q1_minimum_nights = df_clean.minimum_nights.quantile(.25)\n",
        "\n",
        "IQR_minimum_nights = q3_minimum_nights - q1_minimum_nights\n",
        "\n",
        "print('IQR da variável minimum_nights: ', IQR_minimum_nights)"
      ],
      "metadata": {
        "colab": {
          "base_uri": "https://localhost:8080/"
        },
        "id": "AYkzQu1S_cQ4",
        "outputId": "fee9bb06-3497-4bed-dc12-62532a369d17"
      },
      "execution_count": 24,
      "outputs": [
        {
          "output_type": "stream",
          "name": "stdout",
          "text": [
            "IQR da variável minimum_nights:  2.0\n"
          ]
        }
      ]
    },
    {
      "cell_type": "markdown",
      "source": [
        "**Cálculo dos limites superior e inferior**"
      ],
      "metadata": {
        "id": "rIOLkW8g_6Ro"
      }
    },
    {
      "cell_type": "code",
      "source": [
        "sup_minimum_nights = q3_minimum_nights + 1.5*IQR_minimum_nights\n",
        "inf_minimum_nights = q1_minimum_nights - 1.5*IQR_minimum_nights\n",
        "\n",
        "print('Limite superior da variável minimum_nights: ', sup_minimum_nights,\n",
        "      '\\nLimite inferior da variável minimum_nights: ', inf_minimum_nights)"
      ],
      "metadata": {
        "colab": {
          "base_uri": "https://localhost:8080/"
        },
        "id": "iSJsLsEQ_2UB",
        "outputId": "565d2aeb-da6c-4960-90fe-228d30b142c7"
      },
      "execution_count": 25,
      "outputs": [
        {
          "output_type": "stream",
          "name": "stdout",
          "text": [
            "Limite superior da variável minimum_nights:  6.0 \n",
            "Limite inferior da variável minimum_nights:  -2.0\n"
          ]
        }
      ]
    },
    {
      "cell_type": "markdown",
      "source": [
        "**Visualizando o boxplot e proporção do dataset que representa o corte do limite superior**"
      ],
      "metadata": {
        "id": "0M_SVdr7AQzZ"
      }
    },
    {
      "cell_type": "code",
      "source": [
        "fig, ax = plt.subplots(figsize = (15,3))\n",
        "df_clean.minimum_nights.plot(kind = 'box', vert = False)\n",
        "ax.set_title('Dataset antes da limpeza de outliers - variável minimum_nights')\n",
        "plt.show()\n",
        "\n",
        "print('O dataset possui {} entradas'.format(df_clean.shape[0]))\n",
        "print('{} entradas acima de 6.0'.format(len(df_clean[df_clean.minimum_nights > 6.0])))\n",
        "print('Representam {:.2f}% do dataset'.format(len(df_clean[df_clean.minimum_nights > 6.0]) / df_clean.shape[0]*100))"
      ],
      "metadata": {
        "colab": {
          "base_uri": "https://localhost:8080/",
          "height": 282
        },
        "id": "L6Gr4IMPAWjn",
        "outputId": "61d3ee03-fdb4-4dd9-acc5-a36765754353"
      },
      "execution_count": 26,
      "outputs": [
        {
          "output_type": "display_data",
          "data": {
            "text/plain": [
              "<Figure size 1080x216 with 1 Axes>"
            ],
            "image/png": "[encoded data removed]"
          },
          "metadata": {
            "needs_background": "light"
          }
        },
        {
          "output_type": "stream",
          "name": "stdout",
          "text": [
            "O dataset possui 24379 entradas\n",
            "1039 entradas acima de 6.0\n",
            "Representam 4.26% do dataset\n"
          ]
        }
      ]
    },
    {
      "cell_type": "markdown",
      "source": [
        "#### Limpando os outliers\n"
      ],
      "metadata": {
        "id": "Wr1EJidQBJ-9"
      }
    },
    {
      "cell_type": "markdown",
      "source": [
        "Prosseguindo agora com a limpeza dos *outliers* para as duas variáveis. Vamos utilizar a função `.drop()`, selecionando todas as entradas que estão acima do limite superior calculado no IQR, excluindo-as do dataset e já implementando as mudanças `inplace`.\n",
        "\n",
        "Apenas para a variável `price`, ainda vamos excluir o valor igual a zero, uma vez que não faz sentido um anfitrião ofertar sua hospedagem de graça."
      ],
      "metadata": {
        "id": "AK7AGSMPSpgR"
      }
    },
    {
      "cell_type": "code",
      "source": [
        "# Limpando os outliers de price e minimum_nights\n",
        "df_clean.drop(df_clean[df_clean.price > 252.5].index, axis = 0, inplace = True)\n",
        "df_clean.drop(df_clean[df_clean.price == 0.0].index, axis = 0, inplace = True)\n",
        "df_clean.drop(df_clean[df_clean.minimum_nights > 6.0].index, axis = 0, inplace = True)\n",
        "\n",
        "# Comparando o shape antes e depois da limpeza de outliers e de dados ausentes\n",
        "print('Shape do dataset:',\n",
        "      '\\nAntes: ', df_rome.shape,\n",
        "      '\\nDepois: ', df_clean.shape)"
      ],
      "metadata": {
        "colab": {
          "base_uri": "https://localhost:8080/"
        },
        "id": "nI1sfVNWBUm-",
        "outputId": "92397462-2a72-49d8-9d64-7a3688a00e20"
      },
      "execution_count": 27,
      "outputs": [
        {
          "output_type": "stream",
          "name": "stdout",
          "text": [
            "Shape do dataset: \n",
            "Antes:  (24383, 18) \n",
            "Depois:  (21335, 15)\n"
          ]
        }
      ]
    },
    {
      "cell_type": "code",
      "source": [
        "pct_outliers = (df_rome.shape[0] - df_clean.shape[0])/df_clean.shape[0] * 100\n",
        "print('Foram removidos {} outliers'.format(df_rome.shape[0]-df_clean.shape[0]),\n",
        "      '\\nIsto representa {:.1f}% do dataset'.format(pct_outliers))"
      ],
      "metadata": {
        "colab": {
          "base_uri": "https://localhost:8080/"
        },
        "id": "rA_ACZ7hT7AM",
        "outputId": "4e062936-4cc8-4b1d-d687-78979c48b4f2"
      },
      "execution_count": 28,
      "outputs": [
        {
          "output_type": "stream",
          "name": "stdout",
          "text": [
            "Foram removidos 3048 outliers \n",
            "Isto representa 14.3% do dataset\n"
          ]
        }
      ]
    },
    {
      "cell_type": "markdown",
      "source": [
        "#### Comparando as mudanças antes e depois das limpezas de valores ausentes e outliers"
      ],
      "metadata": {
        "id": "tjmBPEaWCaP6"
      }
    },
    {
      "cell_type": "markdown",
      "source": [
        "Agora, vamos comparar como o tratamento dos dados de valores ausentes e *outliers* afetaram na distribuição das variáveis `price` e `minimum_nights`."
      ],
      "metadata": {
        "id": "ECzcpup8XGiE"
      }
    },
    {
      "cell_type": "markdown",
      "source": [
        "**Variável `price`**\n",
        "\n"
      ],
      "metadata": {
        "id": "ML-pt214fNZX"
      }
    },
    {
      "cell_type": "code",
      "source": [
        "fig, (ax1, ax2) = plt.subplots(1, 2, figsize = (20,6))\n",
        "fig.suptitle('Comparação entre os datasets - price', fontsize = 15, fontweight = 550)\n",
        "\n",
        "# Dataset original\n",
        "df_rome.price.hist(ax = ax1, color = 'r', grid = False);\n",
        "ax1.set_title('Antes da limpeza', fontdict = {'fontsize': 14})\n",
        "ax1.plot(1,2)\n",
        "\n",
        "# Dataset limpo\n",
        "df_clean.price.hist(ax = ax2, color = 'g', grid = False);\n",
        "ax2.set_title('Depois da limpeza', fontdict = {'fontsize': 14})\n",
        "ax2.plot(1,2)\n",
        "\n",
        "# Adicionando o texto no gráfico para a informações estatísticas\n",
        "ax1.text(0.9, 0.9, 'Média = € 235.6', ha = 'right', va = 'top', transform = ax1.transAxes, fontsize = 'large', fontweight = 600)\n",
        "ax1.text(0.92, 0.85, 'Valor mínimo = € 0', ha = 'right', va = 'top', transform = ax1.transAxes, fontsize = 'large', fontweight = 600)\n",
        "ax1.text(0.96, 0.80, 'Valor máximo = € 96160', ha = 'right', va = 'top', transform = ax1.transAxes, fontsize = 'large', fontweight = 600)\n",
        "\n",
        "ax2.text(0.9, 0.9, 'Média = € 98.6', ha = 'right', va = 'top', transform = ax2.transAxes, fontsize = 'large', fontweight = 600)\n",
        "ax2.text(0.92, 0.85, 'Valor mínimo = € 9', ha = 'right', va = 'top', transform = ax2.transAxes, fontsize = 'large', fontweight = 600)\n",
        "ax2.text(0.94, 0.80, 'Valor máximo = € 252', ha = 'right', va = 'top', transform = ax2.transAxes, fontsize = 'large', fontweight = 600)\n",
        "\n",
        "plt.show()"
      ],
      "metadata": {
        "colab": {
          "base_uri": "https://localhost:8080/",
          "height": 417
        },
        "id": "gy8-52TBP4Ue",
        "outputId": "3f22be49-9a81-4fbd-f350-25016bddc3b1"
      },
      "execution_count": 30,
      "outputs": [
        {
          "output_type": "display_data",
          "data": {
            "text/plain": [
              "<Figure size 1440x432 with 2 Axes>"
            ],
            "image/png": "[encoded data removed]"
          },
          "metadata": {
            "needs_background": "light"
          }
        }
      ]
    },
    {
      "cell_type": "markdown",
      "source": [
        "Note a partir do gráfico, a mudança na média e nos valores máximo e mínimo para cada dataset. Agora, temos um conjunto de dados para a variável `price` muito menos enviesado para os valores mais altos.\n",
        "\n",
        "Também é possível verificar a mudança na média, nos quartis e nos valores máximos e mínimoss analisando o **boxplot**:"
      ],
      "metadata": {
        "id": "XqvSLtp2cO02"
      }
    },
    {
      "cell_type": "code",
      "source": [
        "fig, (ax1, ax2) = plt.subplots(1, 2, figsize = (20,4)) # plt.subplots(1, 2, figsize = (15,3)) - os número (1, 2) representam o número de linhas (1) e colunas(2)\n",
        "fig.suptitle('Comparação entre os datasets - price', fontsize = 15, fontweight = 550)\n",
        "\n",
        "# Dataset original\n",
        "df_rome.price.plot(kind = 'box', ax = ax1, color = 'r', vert = False);\n",
        "ax1.set_title('Antes da limpeza', fontdict = {'fontsize': 14})\n",
        "\n",
        "# Dataset limpo\n",
        "df_clean.price.plot(kind = 'box', ax= ax2, color = 'g', vert = False);\n",
        "ax2.set_title('Depois da limpeza', fontdict = {'fontsize': 14})\n",
        "\n",
        "plt.show()\n",
        "\n",
        "print('O dataset possui {} entradas'.format(df_clean.shape))\n",
        "print('{} entradas acima de 252.5'.format(len(df_clean[df_clean.price > 252.5])))\n",
        "print('Representam {:.2f}% do dataset'.format(len(df_clean[df_clean.price > 252.5]) / df_clean.shape[0]*100))"
      ],
      "metadata": {
        "colab": {
          "base_uri": "https://localhost:8080/",
          "height": 349
        },
        "id": "TxFvBXTjCegq",
        "outputId": "62b0d917-4c2c-464b-9f82-aa7534185ddc"
      },
      "execution_count": 31,
      "outputs": [
        {
          "output_type": "display_data",
          "data": {
            "text/plain": [
              "<Figure size 1440x288 with 2 Axes>"
            ],
            "image/png": "[encoded data removed]"
          },
          "metadata": {
            "needs_background": "light"
          }
        },
        {
          "output_type": "stream",
          "name": "stdout",
          "text": [
            "O dataset possui (21335, 15) entradas\n",
            "0 entradas acima de 252.5\n",
            "Representam 0.00% do dataset\n"
          ]
        }
      ]
    },
    {
      "cell_type": "markdown",
      "source": [
        "O boxplot mostra claramente a diferença entre os dados antes e depois. No *dataset* original era impossível visualizar a caixa contendo as informações sobre os quartis, a mediana e os valores máximo e mínimo. \n",
        "\n",
        "Com a limpeza, conseguimos distinguir essas informações com facilidade. \n",
        "\n",
        "* Mediana: 89,0\n",
        "* Média: 98,6\n",
        "* Primeiro quartil: 64,0\n",
        "* Terceiro quartil: 123,0\n",
        "* Valor máximo: 252,0\n",
        "* Valor mínimo: 9,0"
      ],
      "metadata": {
        "id": "NCqHpJw4aD6s"
      }
    },
    {
      "cell_type": "code",
      "source": [
        "df_clean.price.describe().round(1)"
      ],
      "metadata": {
        "colab": {
          "base_uri": "https://localhost:8080/"
        },
        "id": "2S2jh0UWagX2",
        "outputId": "2ff85c13-db9a-45bf-98b6-a19cc79dc47e"
      },
      "execution_count": 49,
      "outputs": [
        {
          "output_type": "execute_result",
          "data": {
            "text/plain": [
              "count    21335.0\n",
              "mean        98.6\n",
              "std         48.1\n",
              "min          9.0\n",
              "25%         64.0\n",
              "50%         89.0\n",
              "75%        123.0\n",
              "max        252.0\n",
              "Name: price, dtype: float64"
            ]
          },
          "metadata": {},
          "execution_count": 49
        }
      ]
    },
    {
      "cell_type": "markdown",
      "source": [
        "**Variável `minimum_nights`**"
      ],
      "metadata": {
        "id": "ODoyHBD2fnd8"
      }
    },
    {
      "cell_type": "code",
      "source": [
        "fig, (ax1, ax2) = plt.subplots(1, 2, figsize = (20,6))\n",
        "fig.suptitle('Comparação entre os datasets - minimum_nights', fontsize = 16, fontweight = 550)\n",
        "\n",
        "# Dataset original\n",
        "df_rome.minimum_nights.hist(ax = ax1, color = 'r', grid = False);\n",
        "ax1.set_title('Antes da limpeza', fontdict = {'fontsize': 14})\n",
        "ax1.plot(1,2)\n",
        "\n",
        "# Dataset limpo\n",
        "df_clean.minimum_nights.hist(ax = ax2, color = 'g', grid = False);\n",
        "ax2.set_title('Depois da limpeza', fontdict = {'fontsize': 14})\n",
        "ax2.plot(1,2)\n",
        "\n",
        "# Adicionando o texto no gráfico para informações estatísticas\n",
        "ax1.text(0.9, 0.9, 'Média = 3,53 noites', ha = 'right', va = 'top', transform = ax1.transAxes, fontsize = 'large', fontweight = 600)\n",
        "ax1.text(0.92, 0.85, 'Valor mínimo = 1 noite', ha = 'right', va = 'top', transform = ax1.transAxes, fontsize = 'large', fontweight = 600)\n",
        "ax1.text(0.94, 0.80, 'Valor máximo = 999 noites', ha = 'right', va = 'top', transform = ax1.transAxes, fontsize = 'large', fontweight = 600)\n",
        "\n",
        "ax2.text(0.9, 0.9, 'Média = 1,97 noite', ha = 'right', va = 'top', transform = ax2.transAxes, fontsize = 'large', fontweight = 600)\n",
        "ax2.text(0.92, 0.85, 'Valor mínimo = 1 noite', ha = 'right', va = 'top', transform = ax2.transAxes, fontsize = 'large', fontweight = 600)\n",
        "ax2.text(0.933, 0.80, 'Valor máximo = 6 noites', ha = 'right', va = 'top', transform = ax2.transAxes, fontsize = 'large', fontweight = 600)\n",
        "\n",
        "plt.show()"
      ],
      "metadata": {
        "colab": {
          "base_uri": "https://localhost:8080/",
          "height": 417
        },
        "id": "JqRXx_d-R6Wd",
        "outputId": "aa616f47-3591-461c-d162-c5a9815e5ecd"
      },
      "execution_count": 50,
      "outputs": [
        {
          "output_type": "display_data",
          "data": {
            "text/plain": [
              "<Figure size 1440x432 with 2 Axes>"
            ],
            "image/png": "[encoded data removed]"
          },
          "metadata": {
            "needs_background": "light"
          }
        }
      ]
    },
    {
      "cell_type": "code",
      "source": [
        "fig, (ax1, ax2) = plt.subplots(1, 2, figsize = (20,4))\n",
        "fig.suptitle('Comparação entre os datasets - minimum_nights', fontsize = 15, fontweight = 550)\n",
        "\n",
        "# Dataset original\n",
        "df_rome.minimum_nights.plot(kind = 'box', vert = False, color = 'r', ax = ax1)\n",
        "ax1.set_title('Antes da limpeza', fontdict = {'fontsize': 14})\n",
        "\n",
        "# Dataset limpo\n",
        "df_clean.minimum_nights.plot(kind = 'box', vert = False, color = 'g', ax = ax2)\n",
        "ax2.set_title('Depois da limpeza', fontdict = {'fontsize': 14})\n",
        "\n",
        "plt.show()\n",
        "\n",
        "print('O dataset possui {} entradas'.format(df_clean.shape))\n",
        "print('{} entradas acima de 6.0'.format(len(df_clean[df_clean.minimum_nights > 6.0])))\n",
        "print('Representam {:.2f}% do dataset'.format(len(df_clean[df_clean.minimum_nights > 6.0]) / df_clean.shape[0]*100))"
      ],
      "metadata": {
        "colab": {
          "base_uri": "https://localhost:8080/",
          "height": 349
        },
        "id": "TtdWMg_3DLMq",
        "outputId": "4c5ca0d5-9e67-4ac5-d1eb-03e60280909d"
      },
      "execution_count": 33,
      "outputs": [
        {
          "output_type": "display_data",
          "data": {
            "text/plain": [
              "<Figure size 1440x288 with 2 Axes>"
            ],
            "image/png": "[encoded data removed]"
          },
          "metadata": {
            "needs_background": "light"
          }
        },
        {
          "output_type": "stream",
          "name": "stdout",
          "text": [
            "O dataset possui (21335, 15) entradas\n",
            "0 entradas acima de 6.0\n",
            "Representam 0.00% do dataset\n"
          ]
        }
      ]
    },
    {
      "cell_type": "markdown",
      "source": [
        "Assim como aconteceu com a variável `price`, agora conseguimos distinguir claramente os quartis e os valores máximos e mínimos para `minimum_nights`."
      ],
      "metadata": {
        "id": "_kwgjrNVb_Zd"
      }
    },
    {
      "cell_type": "markdown",
      "metadata": {
        "id": "IXn2oIo5qx-w"
      },
      "source": [
        "### **5. Qual a correlação existente entre as variáveis**\n",
        "\n",
        "Para mostrar a correlação das variáveis, utilizaremos o método `.corr()` para as variáveis de interesse, juntamente com a biblioteca de visualização do `seaborn`.\n",
        "\n",
        "1. Verificar a matriz de correlação entre as variáveis;\n",
        "2. Visualizar graficamente as correlações através do heatmap da biblioteca `seaborn`."
      ]
    },
    {
      "cell_type": "code",
      "metadata": {
        "id": "x2ayzBajqxyd",
        "colab": {
          "base_uri": "https://localhost:8080/",
          "height": 237
        },
        "outputId": "93848aec-76e4-4a77-ee41-6d2382c033dd"
      },
      "source": [
        "# criar uma matriz de correlação\n",
        "corr = df_clean[['price', 'minimum_nights', 'number_of_reviews', 'reviews_per_month',\n",
        "                 'calculated_host_listings_count', 'availability_365']].corr()\n",
        "\n",
        "# mostrar a matriz de correlação\n",
        "display(corr)"
      ],
      "execution_count": 34,
      "outputs": [
        {
          "output_type": "display_data",
          "data": {
            "text/plain": [
              "                                   price  minimum_nights  number_of_reviews  \\\n",
              "price                           1.000000        0.040287          -0.073676   \n",
              "minimum_nights                  0.040287        1.000000           0.070147   \n",
              "number_of_reviews              -0.073676        0.070147           1.000000   \n",
              "reviews_per_month              -0.065749       -0.042551           0.537978   \n",
              "calculated_host_listings_count  0.060721       -0.079497          -0.052564   \n",
              "availability_365                0.158431       -0.080813           0.009259   \n",
              "\n",
              "                                reviews_per_month  \\\n",
              "price                                   -0.065749   \n",
              "minimum_nights                          -0.042551   \n",
              "number_of_reviews                        0.537978   \n",
              "reviews_per_month                        1.000000   \n",
              "calculated_host_listings_count           0.004078   \n",
              "availability_365                         0.095140   \n",
              "\n",
              "                                calculated_host_listings_count  \\\n",
              "price                                                 0.060721   \n",
              "minimum_nights                                       -0.079497   \n",
              "number_of_reviews                                    -0.052564   \n",
              "reviews_per_month                                     0.004078   \n",
              "calculated_host_listings_count                        1.000000   \n",
              "availability_365                                     -0.038554   \n",
              "\n",
              "                                availability_365  \n",
              "price                                   0.158431  \n",
              "minimum_nights                         -0.080813  \n",
              "number_of_reviews                       0.009259  \n",
              "reviews_per_month                       0.095140  \n",
              "calculated_host_listings_count         -0.038554  \n",
              "availability_365                        1.000000  "
            ],
            "text/html": [
              "\n",
              "  <div id=\"df-39e6fcd5-5b32-4872-86d6-3f87cf0521bd\">\n",
              "    <div class=\"colab-df-container\">\n",
              "      <div>\n",
              "<style scoped>\n",
              "    .dataframe tbody tr th:only-of-type {\n",
              "        vertical-align: middle;\n",
              "    }\n",
              "\n",
              "    .dataframe tbody tr th {\n",
              "        vertical-align: top;\n",
              "    }\n",
              "\n",
              "    .dataframe thead th {\n",
              "        text-align: right;\n",
              "    }\n",
              "</style>\n",
              "<table border=\"1\" class=\"dataframe\">\n",
              "  <thead>\n",
              "    <tr style=\"text-align: right;\">\n",
              "      <th></th>\n",
              "      <th>price</th>\n",
              "      <th>minimum_nights</th>\n",
              "      <th>number_of_reviews</th>\n",
              "      <th>reviews_per_month</th>\n",
              "      <th>calculated_host_listings_count</th>\n",
              "      <th>availability_365</th>\n",
              "    </tr>\n",
              "  </thead>\n",
              "  <tbody>\n",
              "    <tr>\n",
              "      <th>price</th>\n",
              "      <td>1.000000</td>\n",
              "      <td>0.040287</td>\n",
              "      <td>-0.073676</td>\n",
              "      <td>-0.065749</td>\n",
              "      <td>0.060721</td>\n",
              "      <td>0.158431</td>\n",
              "    </tr>\n",
              "    <tr>\n",
              "      <th>minimum_nights</th>\n",
              "      <td>0.040287</td>\n",
              "      <td>1.000000</td>\n",
              "      <td>0.070147</td>\n",
              "      <td>-0.042551</td>\n",
              "      <td>-0.079497</td>\n",
              "      <td>-0.080813</td>\n",
              "    </tr>\n",
              "    <tr>\n",
              "      <th>number_of_reviews</th>\n",
              "      <td>-0.073676</td>\n",
              "      <td>0.070147</td>\n",
              "      <td>1.000000</td>\n",
              "      <td>0.537978</td>\n",
              "      <td>-0.052564</td>\n",
              "      <td>0.009259</td>\n",
              "    </tr>\n",
              "    <tr>\n",
              "      <th>reviews_per_month</th>\n",
              "      <td>-0.065749</td>\n",
              "      <td>-0.042551</td>\n",
              "      <td>0.537978</td>\n",
              "      <td>1.000000</td>\n",
              "      <td>0.004078</td>\n",
              "      <td>0.095140</td>\n",
              "    </tr>\n",
              "    <tr>\n",
              "      <th>calculated_host_listings_count</th>\n",
              "      <td>0.060721</td>\n",
              "      <td>-0.079497</td>\n",
              "      <td>-0.052564</td>\n",
              "      <td>0.004078</td>\n",
              "      <td>1.000000</td>\n",
              "      <td>-0.038554</td>\n",
              "    </tr>\n",
              "    <tr>\n",
              "      <th>availability_365</th>\n",
              "      <td>0.158431</td>\n",
              "      <td>-0.080813</td>\n",
              "      <td>0.009259</td>\n",
              "      <td>0.095140</td>\n",
              "      <td>-0.038554</td>\n",
              "      <td>1.000000</td>\n",
              "    </tr>\n",
              "  </tbody>\n",
              "</table>\n",
              "</div>\n",
              "      <button class=\"colab-df-convert\" onclick=\"convertToInteractive('df-39e6fcd5-5b32-4872-86d6-3f87cf0521bd')\"\n",
              "              title=\"Convert this dataframe to an interactive table.\"\n",
              "              style=\"display:none;\">\n",
              "        \n",
              "  <svg xmlns=\"http://www.w3.org/2000/svg\" height=\"24px\"viewBox=\"0 0 24 24\"\n",
              "       width=\"24px\">\n",
              "    <path d=\"M0 0h24v24H0V0z\" fill=\"none\"/>\n",
              "    <path d=\"M18.56 5.44l.94 2.06.94-2.06 2.06-.94-2.06-.94-.94-2.06-.94 2.06-2.06.94zm-11 1L8.5 8.5l.94-2.06 2.06-.94-2.06-.94L8.5 2.5l-.94 2.06-2.06.94zm10 10l.94 2.06.94-2.06 2.06-.94-2.06-.94-.94-2.06-.94 2.06-2.06.94z\"/><path d=\"M17.41 7.96l-1.37-1.37c-.4-.4-.92-.59-1.43-.59-.52 0-1.04.2-1.43.59L10.3 9.45l-7.72 7.72c-.78.78-.78 2.05 0 2.83L4 21.41c.39.39.9.59 1.41.59.51 0 1.02-.2 1.41-.59l7.78-7.78 2.81-2.81c.8-.78.8-2.07 0-2.86zM5.41 20L4 18.59l7.72-7.72 1.47 1.35L5.41 20z\"/>\n",
              "  </svg>\n",
              "      </button>\n",
              "      \n",
              "  <style>\n",
              "    .colab-df-container {\n",
              "      display:flex;\n",
              "      flex-wrap:wrap;\n",
              "      gap: 12px;\n",
              "    }\n",
              "\n",
              "    .colab-df-convert {\n",
              "      background-color: #E8F0FE;\n",
              "      border: none;\n",
              "      border-radius: 50%;\n",
              "      cursor: pointer;\n",
              "      display: none;\n",
              "      fill: #1967D2;\n",
              "      height: 32px;\n",
              "      padding: 0 0 0 0;\n",
              "      width: 32px;\n",
              "    }\n",
              "\n",
              "    .colab-df-convert:hover {\n",
              "      background-color: #E2EBFA;\n",
              "      box-shadow: 0px 1px 2px rgba(60, 64, 67, 0.3), 0px 1px 3px 1px rgba(60, 64, 67, 0.15);\n",
              "      fill: #174EA6;\n",
              "    }\n",
              "\n",
              "    [theme=dark] .colab-df-convert {\n",
              "      background-color: #3B4455;\n",
              "      fill: #D2E3FC;\n",
              "    }\n",
              "\n",
              "    [theme=dark] .colab-df-convert:hover {\n",
              "      background-color: #434B5C;\n",
              "      box-shadow: 0px 1px 3px 1px rgba(0, 0, 0, 0.15);\n",
              "      filter: drop-shadow(0px 1px 2px rgba(0, 0, 0, 0.3));\n",
              "      fill: #FFFFFF;\n",
              "    }\n",
              "  </style>\n",
              "\n",
              "      <script>\n",
              "        const buttonEl =\n",
              "          document.querySelector('#df-39e6fcd5-5b32-4872-86d6-3f87cf0521bd button.colab-df-convert');\n",
              "        buttonEl.style.display =\n",
              "          google.colab.kernel.accessAllowed ? 'block' : 'none';\n",
              "\n",
              "        async function convertToInteractive(key) {\n",
              "          const element = document.querySelector('#df-39e6fcd5-5b32-4872-86d6-3f87cf0521bd');\n",
              "          const dataTable =\n",
              "            await google.colab.kernel.invokeFunction('convertToInteractive',\n",
              "                                                     [key], {});\n",
              "          if (!dataTable) return;\n",
              "\n",
              "          const docLinkHtml = 'Like what you see? Visit the ' +\n",
              "            '<a target=\"_blank\" href=https://colab.research.google.com/notebooks/data_table.ipynb>data table notebook</a>'\n",
              "            + ' to learn more about interactive tables.';\n",
              "          element.innerHTML = '';\n",
              "          dataTable['output_type'] = 'display_data';\n",
              "          await google.colab.output.renderOutput(dataTable, element);\n",
              "          const docLink = document.createElement('div');\n",
              "          docLink.innerHTML = docLinkHtml;\n",
              "          element.appendChild(docLink);\n",
              "        }\n",
              "      </script>\n",
              "    </div>\n",
              "  </div>\n",
              "  "
            ]
          },
          "metadata": {}
        }
      ]
    },
    {
      "cell_type": "code",
      "metadata": {
        "id": "91UujDr6ueqE",
        "colab": {
          "base_uri": "https://localhost:8080/",
          "height": 411
        },
        "outputId": "0b23e83d-82ac-40a0-bca8-554b2035b313"
      },
      "source": [
        "# plotar um heatmap a partir das correlações\n",
        "sns.heatmap(corr, cmap = 'RdYlGn', square = True, fmt = '.2f', linecolor = 'white', annot = True);"
      ],
      "execution_count": 35,
      "outputs": [
        {
          "output_type": "display_data",
          "data": {
            "text/plain": [
              "<Figure size 432x288 with 2 Axes>"
            ],
            "image/png": "[encoded data removed]"
          },
          "metadata": {
            "needs_background": "light"
          }
        }
      ]
    },
    {
      "cell_type": "markdown",
      "source": [
        "Nota-se que as variáveis são pouco relacionadas entre si. Apenas as variáveis `reviews_per_month` e `number_of_reviews` apresentam uma correlação positiva relevante de + 0.54. Faz sentido, uma vez que quanto mais reviews um imóvel recebe por mês, maior será seu número de reviews."
      ],
      "metadata": {
        "id": "CtXw9ZkJGhNk"
      }
    },
    {
      "cell_type": "markdown",
      "metadata": {
        "id": "7x4aw1j5wNmn"
      },
      "source": [
        "### **6. Qual a média dos preços de aluguel?**\n",
        "\n",
        "Agora que os dados foram limpos e excluídos os outliers, podemos analisar novamente a descrição estatística do conjunto."
      ]
    },
    {
      "cell_type": "code",
      "metadata": {
        "id": "ff-8gUahLk-C",
        "colab": {
          "base_uri": "https://localhost:8080/",
          "height": 300
        },
        "outputId": "18fe07b7-20a8-4bac-e5ea-7638d8f5b28d"
      },
      "source": [
        "df_clean.describe().round(2)"
      ],
      "execution_count": 36,
      "outputs": [
        {
          "output_type": "execute_result",
          "data": {
            "text/plain": [
              "       latitude  longitude     price  minimum_nights  number_of_reviews  \\\n",
              "count  21335.00   21335.00  21335.00        21335.00           21335.00   \n",
              "mean      41.89      12.48     98.56            1.97              56.41   \n",
              "std        0.03       0.05     48.11            1.01              86.30   \n",
              "min       41.66      12.25      9.00            1.00               0.00   \n",
              "25%       41.89      12.46     64.00            1.00               4.00   \n",
              "50%       41.90      12.48     89.00            2.00              20.00   \n",
              "75%       41.91      12.50    123.00            3.00              71.00   \n",
              "max       42.12      12.79    252.00            6.00            1270.00   \n",
              "\n",
              "       reviews_per_month  calculated_host_listings_count  availability_365  \\\n",
              "count           21335.00                        21335.00          21335.00   \n",
              "mean                1.51                            8.14            201.87   \n",
              "std                 1.48                           23.93            128.84   \n",
              "min                 0.01                            1.00              0.00   \n",
              "25%                 0.45                            1.00             79.00   \n",
              "50%                 1.00                            2.00            226.00   \n",
              "75%                 2.11                            6.00            327.00   \n",
              "max                34.83                          221.00            365.00   \n",
              "\n",
              "       number_of_reviews_ltm  \n",
              "count               21335.00  \n",
              "mean                   15.32  \n",
              "std                    20.54  \n",
              "min                     0.00  \n",
              "25%                     0.00  \n",
              "50%                     7.00  \n",
              "75%                    24.00  \n",
              "max                   765.00  "
            ],
            "text/html": [
              "\n",
              "  <div id=\"df-a8631013-693c-4971-bfee-d9282e166e2d\">\n",
              "    <div class=\"colab-df-container\">\n",
              "      <div>\n",
              "<style scoped>\n",
              "    .dataframe tbody tr th:only-of-type {\n",
              "        vertical-align: middle;\n",
              "    }\n",
              "\n",
              "    .dataframe tbody tr th {\n",
              "        vertical-align: top;\n",
              "    }\n",
              "\n",
              "    .dataframe thead th {\n",
              "        text-align: right;\n",
              "    }\n",
              "</style>\n",
              "<table border=\"1\" class=\"dataframe\">\n",
              "  <thead>\n",
              "    <tr style=\"text-align: right;\">\n",
              "      <th></th>\n",
              "      <th>latitude</th>\n",
              "      <th>longitude</th>\n",
              "      <th>price</th>\n",
              "      <th>minimum_nights</th>\n",
              "      <th>number_of_reviews</th>\n",
              "      <th>reviews_per_month</th>\n",
              "      <th>calculated_host_listings_count</th>\n",
              "      <th>availability_365</th>\n",
              "      <th>number_of_reviews_ltm</th>\n",
              "    </tr>\n",
              "  </thead>\n",
              "  <tbody>\n",
              "    <tr>\n",
              "      <th>count</th>\n",
              "      <td>21335.00</td>\n",
              "      <td>21335.00</td>\n",
              "      <td>21335.00</td>\n",
              "      <td>21335.00</td>\n",
              "      <td>21335.00</td>\n",
              "      <td>21335.00</td>\n",
              "      <td>21335.00</td>\n",
              "      <td>21335.00</td>\n",
              "      <td>21335.00</td>\n",
              "    </tr>\n",
              "    <tr>\n",
              "      <th>mean</th>\n",
              "      <td>41.89</td>\n",
              "      <td>12.48</td>\n",
              "      <td>98.56</td>\n",
              "      <td>1.97</td>\n",
              "      <td>56.41</td>\n",
              "      <td>1.51</td>\n",
              "      <td>8.14</td>\n",
              "      <td>201.87</td>\n",
              "      <td>15.32</td>\n",
              "    </tr>\n",
              "    <tr>\n",
              "      <th>std</th>\n",
              "      <td>0.03</td>\n",
              "      <td>0.05</td>\n",
              "      <td>48.11</td>\n",
              "      <td>1.01</td>\n",
              "      <td>86.30</td>\n",
              "      <td>1.48</td>\n",
              "      <td>23.93</td>\n",
              "      <td>128.84</td>\n",
              "      <td>20.54</td>\n",
              "    </tr>\n",
              "    <tr>\n",
              "      <th>min</th>\n",
              "      <td>41.66</td>\n",
              "      <td>12.25</td>\n",
              "      <td>9.00</td>\n",
              "      <td>1.00</td>\n",
              "      <td>0.00</td>\n",
              "      <td>0.01</td>\n",
              "      <td>1.00</td>\n",
              "      <td>0.00</td>\n",
              "      <td>0.00</td>\n",
              "    </tr>\n",
              "    <tr>\n",
              "      <th>25%</th>\n",
              "      <td>41.89</td>\n",
              "      <td>12.46</td>\n",
              "      <td>64.00</td>\n",
              "      <td>1.00</td>\n",
              "      <td>4.00</td>\n",
              "      <td>0.45</td>\n",
              "      <td>1.00</td>\n",
              "      <td>79.00</td>\n",
              "      <td>0.00</td>\n",
              "    </tr>\n",
              "    <tr>\n",
              "      <th>50%</th>\n",
              "      <td>41.90</td>\n",
              "      <td>12.48</td>\n",
              "      <td>89.00</td>\n",
              "      <td>2.00</td>\n",
              "      <td>20.00</td>\n",
              "      <td>1.00</td>\n",
              "      <td>2.00</td>\n",
              "      <td>226.00</td>\n",
              "      <td>7.00</td>\n",
              "    </tr>\n",
              "    <tr>\n",
              "      <th>75%</th>\n",
              "      <td>41.91</td>\n",
              "      <td>12.50</td>\n",
              "      <td>123.00</td>\n",
              "      <td>3.00</td>\n",
              "      <td>71.00</td>\n",
              "      <td>2.11</td>\n",
              "      <td>6.00</td>\n",
              "      <td>327.00</td>\n",
              "      <td>24.00</td>\n",
              "    </tr>\n",
              "    <tr>\n",
              "      <th>max</th>\n",
              "      <td>42.12</td>\n",
              "      <td>12.79</td>\n",
              "      <td>252.00</td>\n",
              "      <td>6.00</td>\n",
              "      <td>1270.00</td>\n",
              "      <td>34.83</td>\n",
              "      <td>221.00</td>\n",
              "      <td>365.00</td>\n",
              "      <td>765.00</td>\n",
              "    </tr>\n",
              "  </tbody>\n",
              "</table>\n",
              "</div>\n",
              "      <button class=\"colab-df-convert\" onclick=\"convertToInteractive('df-a8631013-693c-4971-bfee-d9282e166e2d')\"\n",
              "              title=\"Convert this dataframe to an interactive table.\"\n",
              "              style=\"display:none;\">\n",
              "        \n",
              "  <svg xmlns=\"http://www.w3.org/2000/svg\" height=\"24px\"viewBox=\"0 0 24 24\"\n",
              "       width=\"24px\">\n",
              "    <path d=\"M0 0h24v24H0V0z\" fill=\"none\"/>\n",
              "    <path d=\"M18.56 5.44l.94 2.06.94-2.06 2.06-.94-2.06-.94-.94-2.06-.94 2.06-2.06.94zm-11 1L8.5 8.5l.94-2.06 2.06-.94-2.06-.94L8.5 2.5l-.94 2.06-2.06.94zm10 10l.94 2.06.94-2.06 2.06-.94-2.06-.94-.94-2.06-.94 2.06-2.06.94z\"/><path d=\"M17.41 7.96l-1.37-1.37c-.4-.4-.92-.59-1.43-.59-.52 0-1.04.2-1.43.59L10.3 9.45l-7.72 7.72c-.78.78-.78 2.05 0 2.83L4 21.41c.39.39.9.59 1.41.59.51 0 1.02-.2 1.41-.59l7.78-7.78 2.81-2.81c.8-.78.8-2.07 0-2.86zM5.41 20L4 18.59l7.72-7.72 1.47 1.35L5.41 20z\"/>\n",
              "  </svg>\n",
              "      </button>\n",
              "      \n",
              "  <style>\n",
              "    .colab-df-container {\n",
              "      display:flex;\n",
              "      flex-wrap:wrap;\n",
              "      gap: 12px;\n",
              "    }\n",
              "\n",
              "    .colab-df-convert {\n",
              "      background-color: #E8F0FE;\n",
              "      border: none;\n",
              "      border-radius: 50%;\n",
              "      cursor: pointer;\n",
              "      display: none;\n",
              "      fill: #1967D2;\n",
              "      height: 32px;\n",
              "      padding: 0 0 0 0;\n",
              "      width: 32px;\n",
              "    }\n",
              "\n",
              "    .colab-df-convert:hover {\n",
              "      background-color: #E2EBFA;\n",
              "      box-shadow: 0px 1px 2px rgba(60, 64, 67, 0.3), 0px 1px 3px 1px rgba(60, 64, 67, 0.15);\n",
              "      fill: #174EA6;\n",
              "    }\n",
              "\n",
              "    [theme=dark] .colab-df-convert {\n",
              "      background-color: #3B4455;\n",
              "      fill: #D2E3FC;\n",
              "    }\n",
              "\n",
              "    [theme=dark] .colab-df-convert:hover {\n",
              "      background-color: #434B5C;\n",
              "      box-shadow: 0px 1px 3px 1px rgba(0, 0, 0, 0.15);\n",
              "      filter: drop-shadow(0px 1px 2px rgba(0, 0, 0, 0.3));\n",
              "      fill: #FFFFFF;\n",
              "    }\n",
              "  </style>\n",
              "\n",
              "      <script>\n",
              "        const buttonEl =\n",
              "          document.querySelector('#df-a8631013-693c-4971-bfee-d9282e166e2d button.colab-df-convert');\n",
              "        buttonEl.style.display =\n",
              "          google.colab.kernel.accessAllowed ? 'block' : 'none';\n",
              "\n",
              "        async function convertToInteractive(key) {\n",
              "          const element = document.querySelector('#df-a8631013-693c-4971-bfee-d9282e166e2d');\n",
              "          const dataTable =\n",
              "            await google.colab.kernel.invokeFunction('convertToInteractive',\n",
              "                                                     [key], {});\n",
              "          if (!dataTable) return;\n",
              "\n",
              "          const docLinkHtml = 'Like what you see? Visit the ' +\n",
              "            '<a target=\"_blank\" href=https://colab.research.google.com/notebooks/data_table.ipynb>data table notebook</a>'\n",
              "            + ' to learn more about interactive tables.';\n",
              "          element.innerHTML = '';\n",
              "          dataTable['output_type'] = 'display_data';\n",
              "          await google.colab.output.renderOutput(dataTable, element);\n",
              "          const docLink = document.createElement('div');\n",
              "          docLink.innerHTML = docLinkHtml;\n",
              "          element.appendChild(docLink);\n",
              "        }\n",
              "      </script>\n",
              "    </div>\n",
              "  </div>\n",
              "  "
            ]
          },
          "metadata": {},
          "execution_count": 36
        }
      ]
    },
    {
      "cell_type": "code",
      "source": [
        "print('A média dos preços de aluguel é de € {:.2f}'.format(df_clean.price.mean()))"
      ],
      "metadata": {
        "colab": {
          "base_uri": "https://localhost:8080/"
        },
        "id": "rJKjlnkKFJus",
        "outputId": "6702a778-db0b-43ed-ba53-182c760a842d"
      },
      "execution_count": 37,
      "outputs": [
        {
          "output_type": "stream",
          "name": "stdout",
          "text": [
            "A média dos preços de aluguel é de € 98.56\n"
          ]
        }
      ]
    },
    {
      "cell_type": "markdown",
      "source": [
        "Note que a variável `price` está com sua média muito mais próxima da mediana, o que é um bom sinal."
      ],
      "metadata": {
        "id": "CXLFRUAxE-5V"
      }
    },
    {
      "cell_type": "markdown",
      "metadata": {
        "id": "vTneAMRUYvr1"
      },
      "source": [
        "### **7. Qual é a média do mínimo de noites para aluguel (minimum_nights)?**"
      ]
    },
    {
      "cell_type": "markdown",
      "source": [
        "Da mesma maneira, vamos calcular a média da variável `minimum_nights` utilizando `.mean()`."
      ],
      "metadata": {
        "id": "B7rQgSWa47uR"
      }
    },
    {
      "cell_type": "code",
      "metadata": {
        "id": "_VzNhrEgY82N",
        "colab": {
          "base_uri": "https://localhost:8080/"
        },
        "outputId": "205e9557-fa5d-485b-e4b3-ec8b5a9f4a7d"
      },
      "source": [
        " # Média de noites mínimas para ficar hospedado em Roma\n",
        "media_mn = df_clean.minimum_nights.mean() \n",
        "\n",
        "print('A média do mínimo de noites para ficar em Roma é {:.1f} noites'.format(media_mn))"
      ],
      "execution_count": 38,
      "outputs": [
        {
          "output_type": "stream",
          "name": "stdout",
          "text": [
            "A média do mínimo de noites para ficar em Roma é 2.0 noites\n"
          ]
        }
      ]
    },
    {
      "cell_type": "markdown",
      "source": [
        "Vamos avaliar a média de noites mínimas por bairro:"
      ],
      "metadata": {
        "id": "ld-b1X885IAH"
      }
    },
    {
      "cell_type": "code",
      "source": [
        "\n",
        "# Média de noites por bairro\n",
        "media_mn_bairro = df_clean.groupby('neighbourhood').minimum_nights.mean()\n",
        "\n",
        "print('Média de noites mínimas por bairro:',\n",
        "      '\\n', media_mn_bairro.sort_values(ascending = False).round(1))"
      ],
      "metadata": {
        "colab": {
          "base_uri": "https://localhost:8080/"
        },
        "id": "ni2SyfY4gPWI",
        "outputId": "68a7761e-5e91-4809-9b10-255958215145"
      },
      "execution_count": 55,
      "outputs": [
        {
          "output_type": "stream",
          "name": "stdout",
          "text": [
            "Média de noites mínimas por bairro: \n",
            " neighbourhood\n",
            "XII Monte Verde               2.2\n",
            "IX Eur                        2.2\n",
            "XV Cassia/Flaminia            2.1\n",
            "III Monte Sacro               2.1\n",
            "V Prenestino/Centocelle       2.1\n",
            "VIII Appia Antica             2.1\n",
            "XIV Monte Mario               2.1\n",
            "II Parioli/Nomentano          2.1\n",
            "XI Arvalia/Portuense          2.0\n",
            "X Ostia/Acilia                2.0\n",
            "XIII Aurelia                  2.0\n",
            "VII San Giovanni/Cinecittà    1.9\n",
            "I Centro Storico              1.9\n",
            "IV Tiburtina                  1.9\n",
            "VI Roma delle Torri           1.8\n",
            "Name: minimum_nights, dtype: float64\n"
          ]
        }
      ]
    },
    {
      "cell_type": "markdown",
      "source": [
        "> As médias de noites mínimas por bairro se distribuem muito bem em torno da média geral, que é igual a 2. Como se pode ver, a diferença entre a maior média, no bairro IX Eur e a menor, no bairro VI Roma delle Torri, é de 0,4 dias."
      ],
      "metadata": {
        "id": "KbbOOJKsgZPR"
      }
    },
    {
      "cell_type": "markdown",
      "metadata": {
        "id": "7b6RMWpuHKN-"
      },
      "source": [
        "### **8. Qual o tipo de imóvel mais alugado no Airbnb?**"
      ]
    },
    {
      "cell_type": "markdown",
      "source": [
        "A seguir, vamos analisar o tipo de acomodação mais comum disponível aos turistas quando vão à Roma pelo AirBnb. Para isso, vamos:\n",
        "\n",
        "1. Utilizar o método `.value_counts()` para contar os tipos de entradas na variável `room_type`\n",
        "2. Calcular a porcentagem de cada tipo de acomodação, ordenando do maior para o menor."
      ],
      "metadata": {
        "id": "nhaTCLM3sPtK"
      }
    },
    {
      "cell_type": "code",
      "metadata": {
        "id": "ueLPNWvPHgfB",
        "colab": {
          "base_uri": "https://localhost:8080/"
        },
        "outputId": "bad438e9-6431-496d-d399-d11a4e681a8f"
      },
      "source": [
        "# mostrar a quantidade de cada tipo de imóvel disponível\n",
        "df_clean.room_type.value_counts()"
      ],
      "execution_count": 40,
      "outputs": [
        {
          "output_type": "execute_result",
          "data": {
            "text/plain": [
              "Entire home/apt    14258\n",
              "Private room        6318\n",
              "Hotel room           636\n",
              "Shared room          123\n",
              "Name: room_type, dtype: int64"
            ]
          },
          "metadata": {},
          "execution_count": 40
        }
      ]
    },
    {
      "cell_type": "code",
      "metadata": {
        "id": "EvwoO-XAHhIm",
        "colab": {
          "base_uri": "https://localhost:8080/"
        },
        "outputId": "94b0176f-0dbc-4579-8706-68ba55ba6914"
      },
      "source": [
        "# mostrar a porcentagem de cada tipo de imóvel disponível\n",
        "((df_clean.room_type.value_counts()) / df_clean.shape[0]*100).round(1)"
      ],
      "execution_count": 54,
      "outputs": [
        {
          "output_type": "execute_result",
          "data": {
            "text/plain": [
              "Entire home/apt    66.8\n",
              "Private room       29.6\n",
              "Hotel room          3.0\n",
              "Shared room         0.6\n",
              "Name: room_type, dtype: float64"
            ]
          },
          "metadata": {},
          "execution_count": 54
        }
      ]
    },
    {
      "cell_type": "markdown",
      "source": [
        "Nota-se que aproximadamente 67% das acomodações são apartamentos ou casas com o espaço inteiro à disposição, enquanto 29,6% são quartos privados e apenas 1% representa o tradicional quarto de hotel.\n",
        "\n",
        "> Podemos inferir que oferecer a opção de ter uma casa inteira à disposição chama mais atenção dos turistas, seja pela comodidade, seja pelo contato com a comunidade e cultura local.\n",
        "\n"
      ],
      "metadata": {
        "id": "KwGvMUL6sqb5"
      }
    },
    {
      "cell_type": "markdown",
      "source": [
        "**Gráfico de waffle para visualizar os tipos de acomodações mais populares**"
      ],
      "metadata": {
        "id": "SFdmjbjNdXLF"
      }
    },
    {
      "cell_type": "code",
      "source": [
        "data = dict(df_clean.room_type.value_counts())\n",
        "\n",
        "fig = plt.figure(FigureClass = Waffle, \n",
        "                 figsize = (14,8), \n",
        "                 rows = 7, columns = 17, \n",
        "                 colors = ('#E61919', '#eee8aa', '#228B22', '#B5E48C'), \n",
        "                 values = data,\n",
        "                 legend = {'loc': 'upper left', 'bbox_to_anchor': (1,1)});\n",
        "\n",
        "plt.text(0, 1.15, 'Tipos de acomodações disponíveis em Roma pelo AirBnb', \n",
        "         va = 'top', fontsize = 20, weight = 'bold')\n",
        "\n",
        "fig.set_tight_layout(False)\n",
        "plt.show()"
      ],
      "metadata": {
        "colab": {
          "base_uri": "https://localhost:8080/",
          "height": 396
        },
        "id": "VEAhoIyPzpl5",
        "outputId": "79613d43-1c50-4936-989d-9d1caed79785"
      },
      "execution_count": 51,
      "outputs": [
        {
          "output_type": "display_data",
          "data": {
            "text/plain": [
              "<Waffle size 1008x576 with 1 Axes>"
            ],
            "image/png": "[encoded data removed]"
          },
          "metadata": {
            "needs_background": "light"
          }
        }
      ]
    },
    {
      "cell_type": "markdown",
      "metadata": {
        "id": "MFa5NbnLJMcd"
      },
      "source": [
        "### **9. Qual a localidade mais cara do dataset?**\n",
        "\n"
      ]
    },
    {
      "cell_type": "markdown",
      "source": [
        "Vamos, agora, destacar as médias de preço para os bairros, ordenando os 10 mais caros na cidade de Roma."
      ],
      "metadata": {
        "id": "wDvaj31ouveH"
      }
    },
    {
      "cell_type": "code",
      "metadata": {
        "id": "MD_xa143JZpi",
        "colab": {
          "base_uri": "https://localhost:8080/"
        },
        "outputId": "da147c4c-99b3-4b6e-ccc0-e76b573f089e"
      },
      "source": [
        "# ver preços por bairros, na média\n",
        "df_clean.groupby('neighbourhood').price.mean().sort_values(ascending = False).round(1)"
      ],
      "execution_count": 53,
      "outputs": [
        {
          "output_type": "execute_result",
          "data": {
            "text/plain": [
              "neighbourhood\n",
              "I Centro Storico              112.2\n",
              "XIII Aurelia                   94.4\n",
              "XV Cassia/Flaminia             91.0\n",
              "II Parioli/Nomentano           88.7\n",
              "XII Monte Verde                86.8\n",
              "XIV Monte Mario                81.1\n",
              "VIII Appia Antica              80.8\n",
              "XI Arvalia/Portuense           79.5\n",
              "VII San Giovanni/Cinecittà     79.1\n",
              "IX Eur                         78.6\n",
              "III Monte Sacro                76.5\n",
              "X Ostia/Acilia                 75.5\n",
              "IV Tiburtina                   66.7\n",
              "VI Roma delle Torri            63.0\n",
              "V Prenestino/Centocelle        61.4\n",
              "Name: price, dtype: float64"
            ]
          },
          "metadata": {},
          "execution_count": 53
        }
      ]
    },
    {
      "cell_type": "markdown",
      "source": [
        "É interessante se atentar para o fato de que, muitas vezes, alguns bairros possuem menos hospedagens, o que acaba levantando a média de preço daquele bairro. Da mesma forma, bairros que possuem muitas hospedagens, acabam tendo a média mais normalizada, apesar de serem mais caros e fazerem mais sentido do ponto de vista do turismo da cidade.\n",
        "\n",
        "Neste caso, faz sentido que o bairro com a maior média de preço seja o I Centro Storico. Para confirmar, vamos avaliar quantas hospedagens estão registradas nele."
      ],
      "metadata": {
        "id": "MciDULFZtXwE"
      }
    },
    {
      "cell_type": "code",
      "source": [
        "print('O bairro I Centro Storico possui {} imóveis'.format(df_clean[df_clean.neighbourhood == 'I Centro Storico'].shape[0]))"
      ],
      "metadata": {
        "colab": {
          "base_uri": "https://localhost:8080/"
        },
        "id": "nekQ0RLGvnOi",
        "outputId": "07dc8fb9-0fbf-4bb8-815c-bd63c0d1a380"
      },
      "execution_count": 44,
      "outputs": [
        {
          "output_type": "stream",
          "name": "stdout",
          "text": [
            "O bairro I Centro Storico possui 11875 imóveis\n"
          ]
        }
      ]
    },
    {
      "cell_type": "markdown",
      "source": [
        "> De fato, o I Centro Storico representa o bairro mais caro de Roma, com valor médio de hospedagem de € 112.16 para 11875 imóveis registrados."
      ],
      "metadata": {
        "id": "xXKDVlr_wZoh"
      }
    },
    {
      "cell_type": "markdown",
      "source": [
        "#### Distribuição geográfica dos imóveis em Roma - Classificados por preço"
      ],
      "metadata": {
        "id": "YfbmSCftw5yO"
      }
    },
    {
      "cell_type": "markdown",
      "source": [
        "Para finalizar a análise, vamos criar uma distribuição de dispersão dos imóveis através do território de Roma, classificando-os segundo o preço. \n",
        "\n",
        "* Para isso, vamos utilizar a função `.plot()` com o tipo de gráfico `scatter`, que significa dispersão.\n",
        "\n",
        "* Para os eixos, vamos selecionar a a coluna `longitude` para ser o eixo abcisso, e a coluna `latitude` para ser o eixo ordenado.\n",
        "\n",
        "O resultado está exibido a seguir:"
      ],
      "metadata": {
        "id": "xJIIdfAExbdc"
      }
    },
    {
      "cell_type": "code",
      "metadata": {
        "id": "UxVJqJ_3W59I",
        "colab": {
          "base_uri": "https://localhost:8080/",
          "height": 594
        },
        "outputId": "35993357-315b-4c3e-846f-963d164aa5b7"
      },
      "source": [
        "# plotar os imóveis pela latitude-longitude\n",
        "df_clean.plot(kind = 'scatter', x = 'longitude', y = 'latitude', alpha = 0.5, c = df_clean['price'], s = 8,\n",
        "              cmap = plt.get_cmap('brg_r'), figsize = (15,10), \n",
        "              title = 'Distribuição geográfica dos imóveis do Airbnb em Roma - Classificados por preço.',\n",
        "              xlabel = 'Longitude', ylabel = 'Latitude');"
      ],
      "execution_count": 45,
      "outputs": [
        {
          "output_type": "display_data",
          "data": {
            "text/plain": [
              "<Figure size 1080x720 with 2 Axes>"
            ],
            "image/png": "[encoded data removed]"
          },
          "metadata": {
            "needs_background": "light"
          }
        }
      ]
    },
    {
      "cell_type": "markdown",
      "source": [
        "Note que o miolo da cidade representa o bairro I Centro Storico, com os preços mais caros da cidade para acomodações no AirBnb. À medida que afastamos para o perímetro da cidade, os preços abaixam drasticamente."
      ],
      "metadata": {
        "id": "guN84kT_yLlT"
      }
    },
    {
      "cell_type": "markdown",
      "source": [
        "> <img src=\"https://raw.githubusercontent.com/gabrielrflopes/Rome_Airbnb_Data_Analysis/main/roma_airbnb.png\" height=\"500px\"></center>\n",
        "\n",
        "\n"
      ],
      "metadata": {
        "id": "Wxd5Ljcgc9QR"
      }
    },
    {
      "cell_type": "markdown",
      "source": [
        "### Alguns pontos turísticos nos 2 bairros mais caros de Roma\n",
        "\n",
        "#### I Centro Storico\n",
        "\n",
        "O Centro Storico de Roma é a área central histórica da cidade, que abriga muitas atrações turísticas populares. Entre os diversos pontos turísticos que se encontram nessa região, destacam-se:\n",
        "\n",
        "1. Coliseu - O famoso anfiteatro de Roma\n",
        "2. Panteão - Um antigo templo romano que agora é uma igreja, com uma cúpula impressionante e uma arquitetura única.\n",
        "\n",
        "> <img src=\"https://images.unsplash.com/photo-1663875570674-8a2fd321c8e2?ixlib=rb-4.0.3&ixid=MnwxMjA3fDB8MHxwaG90by1wYWdlfHx8fGVufDB8fHx8&auto=format&fit=crop&w=1178&q=80\" height=\"300px\"></center>\n",
        "\n",
        "3. Fontana di Trevi - Uma das fontes mais famosas do mundo, construída nos estilos barroco tardio e neoclássico.\n",
        "4. Escadaria espanhola -  Uma grande escadaria que leva à Igreja de Trinità dei Monti, com vista para a Praça de Espanha e o bairro de Trevi.\n",
        "\n",
        "> <img src=\"https://images.unsplash.com/photo-1603199766715-f01000479bde?ixlib=rb-4.0.3&ixid=MnwxMjA3fDB8MHxwaG90by1wYWdlfHx8fGVufDB8fHx8&auto=format&fit=crop&w=1170&q=80\" height=\"300px\"></center>\n",
        "\n",
        "#### XIII Aurelia\n",
        "\n",
        "O bairro XIII Aurelia de Roma é um bairro residencial, localizado na parte oeste da cidade. Neste bairro está localizada a Cidade do Vaticano, com a Basílica de São Pedro. \n",
        "\n",
        "Também nele se encontra o imponente Castelo de Sant'Angelo, uma antiga fortaleza romana que agora abriga um museu e oferece vistas panorâmicas da cidade.\n",
        "\n",
        "> <img src=\"https://images.unsplash.com/photo-1585391444413-ec7e04ea7e0b?ixlib=rb-4.0.3&ixid=MnwxMjA3fDB8MHxwaG90by1wYWdlfHx8fGVufDB8fHx8&auto=format&fit=crop&w=1170&q=80\" height=\"300px\"></center>\n"
      ],
      "metadata": {
        "id": "5xQ0k8LTd4vm"
      }
    },
    {
      "cell_type": "markdown",
      "metadata": {
        "id": "GkvAg623RjoR"
      },
      "source": [
        "## Conclusões\n"
      ]
    },
    {
      "cell_type": "markdown",
      "source": [
        "Este projeto de data science utilizando os dados do AirBnb em Roma trouxe diversos insights interessantes a respeito do turismo na cidade eterna. Entre eles, destacam-se:\n",
        "\n",
        "* A média de preços para se hospedar em Roma é de € 98,56, o que corresponde a R$ 536,16 em fev/23.\n",
        "* A média de noites mínimas para ficar hospedado é de 2 noites.\n",
        "* O tipo de imóvel mais alugado na cidade são apartamentos e casas completas. As pessoas buscam espaços inteiros, seguidos por quartos privados e, apenas por último, estão os tradicionais quartos de hotel.\n",
        "* A média de preços por bairro segue a tendência da proximidade e volume de pontos turísticos localizados em cada bairro. Ou seja, no I Centro Storico, onde se localizam o Coliseu, o Panteão e a Fontana di Trevi, a média de preços é a maior da cidade.\n",
        "* A maior parte dos imóveis distribuídos no centro de Roma apresentam um preço acima da média. À medida que se distancia para o perímetro da cidade, os preços abaixam drasticamente.\n",
        "\n",
        "Com essas informações, fica mais claro como é o comportamento das pessoas ao procurarem hospedagem em uma das mais belas cidades do mundo, utilizando uma plataforma que facilita muito que pessoas conheçam e vislumbre a beleza da história, arquitetura, cultura e religião daquela terra."
      ],
      "metadata": {
        "id": "X1d5Ptuz2Onz"
      }
    }
  ]
}